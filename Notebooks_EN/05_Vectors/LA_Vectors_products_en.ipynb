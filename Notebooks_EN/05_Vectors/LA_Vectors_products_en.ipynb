{
  "nbformat": 4,
  "nbformat_minor": 0,
  "metadata": {
    "colab": {
      "provenance": []
    },
    "kernelspec": {
      "name": "python3",
      "display_name": "Python 3"
    },
    "language_info": {
      "name": "python"
    }
  },
  "cells": [
    {
      "cell_type": "markdown",
      "source": [
        "## Vector Products: Dot, Cross, and Mixed Product\n",
        "This notebook explores different types of vector products:\n",
        "\n",
        "### Topics Covered:\n",
        "1. Dot Product\n",
        "2. Cross Product\n",
        "3. Mixed Product\n",
        "\n",
        "\n",
        "\n"
      ],
      "metadata": {
        "id": "gHl4S8RFGLq1"
      }
    },
    {
      "cell_type": "code",
      "source": [
        "import numpy as np\n",
        "\n",
        "\n",
        "vector_a = np.array([3, 4, 5])\n",
        "vector_b = np.array([1, 2, 3])\n",
        "\n",
        "\n",
        "dot_product = np.dot(vector_a, vector_b)\n",
        "print(\"Dot Product:\")\n",
        "print(dot_product)\n"
      ],
      "metadata": {
        "colab": {
          "base_uri": "https://localhost:8080/"
        },
        "id": "4AE-unSRJJqs",
        "outputId": "972ff2cb-13a2-4f91-8f03-c2631f8b36b0"
      },
      "execution_count": 8,
      "outputs": [
        {
          "output_type": "stream",
          "name": "stdout",
          "text": [
            "Dot Product:\n",
            "26\n"
          ]
        }
      ]
    },
    {
      "cell_type": "code",
      "source": [
        "cross_product = np.cross(vector_a, vector_b)\n",
        "print(\"\\nCross Product:\")\n",
        "print(cross_product)\n"
      ],
      "metadata": {
        "colab": {
          "base_uri": "https://localhost:8080/"
        },
        "id": "vhs_waSNaXRt",
        "outputId": "07e86037-6c9b-43e9-c1c4-324597028a9f"
      },
      "execution_count": 9,
      "outputs": [
        {
          "output_type": "stream",
          "name": "stdout",
          "text": [
            "\n",
            "Cross Product:\n",
            "[ 2 -4  2]\n"
          ]
        }
      ]
    },
    {
      "cell_type": "code",
      "source": [
        "\n",
        "vector_c = np.array([2, 3, 4])\n",
        "\n",
        "\n",
        "mixed_product = np.dot(vector_a, np.cross(vector_b, vector_c))\n",
        "print(\"\\nMixed Product:\")\n",
        "print(mixed_product)\n"
      ],
      "metadata": {
        "colab": {
          "base_uri": "https://localhost:8080/"
        },
        "id": "qAAlH63maci5",
        "outputId": "e65faee3-9b9e-4a5d-8d45-32f9262f20ff"
      },
      "execution_count": 10,
      "outputs": [
        {
          "output_type": "stream",
          "name": "stdout",
          "text": [
            "\n",
            "Mixed Product:\n",
            "0\n"
          ]
        }
      ]
    },
    {
      "cell_type": "markdown",
      "source": [
        "### Explanation of Vector Products\n",
        "1. **Dot Product:** A scalar that represents the projection of one vector onto another.\n",
        "2. **Cross Product:** A vector perpendicular to the plane defined by the two input vectors.\n",
        "3. **Mixed Product:** A scalar representing the volume of the parallelepiped formed by three vectors.\n"
      ],
      "metadata": {
        "id": "NnpM6a7Naf0H"
      }
    }
  ]
}