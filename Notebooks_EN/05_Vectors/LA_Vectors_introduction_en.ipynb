{
  "nbformat": 4,
  "nbformat_minor": 0,
  "metadata": {
    "colab": {
      "provenance": []
    },
    "kernelspec": {
      "name": "python3",
      "display_name": "Python 3"
    },
    "language_info": {
      "name": "python"
    }
  },
  "cells": [
    {
      "cell_type": "markdown",
      "source": [
        "## Introduction to Vectors\n",
        "This notebook introduces vectors and their basic operations in mathematics.\n",
        "\n",
        "### Topics Covered:\n",
        "1. Definition of vectors\n",
        "2. Basic operations: addition, subtraction, scalar multiplication\n",
        "3. Magnitude and direction\n",
        "4. Unit vectors\n"
      ],
      "metadata": {
        "id": "q6MOvo50o0hx"
      }
    },
    {
      "cell_type": "code",
      "source": [
        "import numpy as np\n",
        "\n",
        "vector_a = np.array([3, 4])\n",
        "vector_b = np.array([1, 2])\n",
        "\n",
        "\n",
        "vector_sum = vector_a + vector_b\n",
        "print(\"Vector Addition:\")\n",
        "print(vector_sum)\n"
      ],
      "metadata": {
        "colab": {
          "base_uri": "https://localhost:8080/"
        },
        "id": "Su6Ydkr8o3ib",
        "outputId": "c81421ca-b155-4afd-f953-ad72d22c28a5"
      },
      "execution_count": 78,
      "outputs": [
        {
          "output_type": "stream",
          "name": "stdout",
          "text": [
            "Vector Addition:\n",
            "[4 6]\n"
          ]
        }
      ]
    },
    {
      "cell_type": "code",
      "source": [
        "\n",
        "vector_difference = vector_a - vector_b\n",
        "print(\"\\nVector Subtraction:\")\n",
        "print(vector_difference)\n"
      ],
      "metadata": {
        "colab": {
          "base_uri": "https://localhost:8080/"
        },
        "id": "Eyr6fVTRo5lF",
        "outputId": "c7bebb3c-cf9c-4e35-9d1e-3fbb52b09bea"
      },
      "execution_count": 79,
      "outputs": [
        {
          "output_type": "stream",
          "name": "stdout",
          "text": [
            "\n",
            "Vector Subtraction:\n",
            "[2 2]\n"
          ]
        }
      ]
    },
    {
      "cell_type": "code",
      "source": [
        "\n",
        "scalar = 2\n",
        "vector_scalar_multiplication = scalar * vector_a\n",
        "print(\"\\nScalar Multiplication:\")\n",
        "print(vector_scalar_multiplication)\n"
      ],
      "metadata": {
        "colab": {
          "base_uri": "https://localhost:8080/"
        },
        "id": "DcfyaV5so7bv",
        "outputId": "7e24997a-a711-4441-a0b8-48f6509a7668"
      },
      "execution_count": 80,
      "outputs": [
        {
          "output_type": "stream",
          "name": "stdout",
          "text": [
            "\n",
            "Scalar Multiplication:\n",
            "[6 8]\n"
          ]
        }
      ]
    },
    {
      "cell_type": "code",
      "source": [
        "\n",
        "vector_magnitude = np.linalg.norm(vector_a)\n",
        "print(\"\\nMagnitude of Vector A:\")\n",
        "print(vector_magnitude)\n"
      ],
      "metadata": {
        "colab": {
          "base_uri": "https://localhost:8080/"
        },
        "id": "W8yyoafAo9C3",
        "outputId": "776dd844-8651-4232-daca-2eabeaf2ba0c"
      },
      "execution_count": 81,
      "outputs": [
        {
          "output_type": "stream",
          "name": "stdout",
          "text": [
            "\n",
            "Magnitude of Vector A:\n",
            "5.0\n"
          ]
        }
      ]
    },
    {
      "cell_type": "code",
      "source": [
        "\n",
        "unit_vector = vector_a / vector_magnitude\n",
        "print(\"\\nUnit Vector of A:\")\n",
        "print(unit_vector)\n"
      ],
      "metadata": {
        "id": "mQLVpQATo-qR",
        "outputId": "a5b01fd5-25ee-48fb-94d8-37ca04652e6d",
        "colab": {
          "base_uri": "https://localhost:8080/"
        }
      },
      "execution_count": 82,
      "outputs": [
        {
          "output_type": "stream",
          "name": "stdout",
          "text": [
            "\n",
            "Unit Vector of A:\n",
            "[0.6 0.8]\n"
          ]
        }
      ]
    },
    {
      "cell_type": "markdown",
      "source": [
        "### Summary of Vectors\n",
        "1. **Addition and Subtraction**:\n",
        "   - Performed component-wise.\n",
        "2. **Scalar Multiplication**:\n",
        "   - Multiplies each component of the vector by the scalar.\n",
        "3. **Magnitude**:\n",
        "   - Length of the vector, calculated using the Euclidean norm.\n",
        "4. **Unit Vector**:\n",
        "   - A vector with magnitude 1, pointing in the same direction as the original vector.\n"
      ],
      "metadata": {
        "id": "ZS0aZgTmpAT8"
      }
    }
  ]
}