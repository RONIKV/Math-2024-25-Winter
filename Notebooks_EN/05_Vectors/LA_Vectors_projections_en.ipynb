{
  "nbformat": 4,
  "nbformat_minor": 0,
  "metadata": {
    "colab": {
      "provenance": []
    },
    "kernelspec": {
      "name": "python3",
      "display_name": "Python 3"
    },
    "language_info": {
      "name": "python"
    }
  },
  "cells": [
    {
      "cell_type": "markdown",
      "source": [
        "## Vector Projections\n",
        "This notebook explores how to compute the projection of one vector onto another.\n",
        "\n",
        "### Topics Covered:\n",
        "1. Definition of vector projection\n",
        "2. Projection formula\n",
        "3. Applications of vector projections\n"
      ],
      "metadata": {
        "id": "DYO1c_gIp2Qq"
      }
    },
    {
      "cell_type": "code",
      "source": [
        "import numpy as np\n",
        "\n",
        "\n",
        "vector_a = np.array([3, 4])\n",
        "vector_b = np.array([1, 2])\n",
        "\n",
        "\n",
        "dot_product = np.dot(vector_a, vector_b)\n",
        "magnitude_b = np.linalg.norm(vector_b)\n",
        "\n",
        "projection = (dot_product / magnitude_b**2) * vector_b\n",
        "print(\"Projection of vector A onto vector B:\")\n",
        "print(projection)\n"
      ],
      "metadata": {
        "colab": {
          "base_uri": "https://localhost:8080/"
        },
        "id": "VZ2C2FWZp3sb",
        "outputId": "217bb209-da21-43bd-ce9c-b0d1318bf555"
      },
      "execution_count": 88,
      "outputs": [
        {
          "output_type": "stream",
          "name": "stdout",
          "text": [
            "Projection of vector A onto vector B:\n",
            "[2.2 4.4]\n"
          ]
        }
      ]
    },
    {
      "cell_type": "code",
      "source": [
        "\n",
        "cos_theta = dot_product / (np.linalg.norm(vector_a) * magnitude_b)\n",
        "print(\"\\nCosine of the angle between A and B:\")\n",
        "print(cos_theta)\n",
        "\n",
        "\n",
        "if np.isclose(cos_theta, 1.0) or np.isclose(cos_theta, -1.0):\n",
        "    print(\"The projection aligns perfectly with the direction of vector B.\")\n",
        "else:\n",
        "    print(\"The projection does not align perfectly, but the formula is correct.\")\n"
      ],
      "metadata": {
        "colab": {
          "base_uri": "https://localhost:8080/"
        },
        "id": "-TAsXmFNp6yG",
        "outputId": "98dc30e1-3e36-42d6-81dc-16eedbbc4207"
      },
      "execution_count": 89,
      "outputs": [
        {
          "output_type": "stream",
          "name": "stdout",
          "text": [
            "\n",
            "Cosine of the angle between A and B:\n",
            "0.9838699100999074\n",
            "The projection does not align perfectly, but the formula is correct.\n"
          ]
        }
      ]
    },
    {
      "cell_type": "markdown",
      "source": [
        "### Summary of Vector Projections\n",
        "1. **Definition**:\n",
        "   - The projection of vector A onto vector B is the shadow of A in the direction of B.\n",
        "2. **Formula**:\n",
        "   - proj_B(A) = [(A · B) / ||B||²] * B\n",
        "3. **Applications**:\n",
        "   - Resolving forces in physics, finding components of vectors in specific directions, and in machine learning.\n"
      ],
      "metadata": {
        "id": "rvaqDt15p9bc"
      }
    }
  ]
}