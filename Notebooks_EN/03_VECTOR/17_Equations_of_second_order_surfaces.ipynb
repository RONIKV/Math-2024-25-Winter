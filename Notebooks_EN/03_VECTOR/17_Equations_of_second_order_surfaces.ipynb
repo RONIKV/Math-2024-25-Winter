{
  "nbformat": 4,
  "nbformat_minor": 0,
  "metadata": {
    "colab": {
      "provenance": []
    },
    "kernelspec": {
      "name": "python3",
      "display_name": "Python 3"
    },
    "language_info": {
      "name": "python"
    }
  },
  "cells": [
    {
      "cell_type": "markdown",
      "source": [
        "### Equations of Second-Order Surfaces\n",
        "\n",
        "#### **Equation of a Sphere**\n",
        "Given center \\( P(1,2,3) \\) and radius \\( r = 3 \\), the equation of the sphere is:\n",
        "```\n",
        "(x - 1)^2 + (y - 2)^2 + (z - 3)^2 = 9\n",
        "```\n",
        "\n",
        "#### **Common Points of Spheres**\n",
        "Given sphere equations:\n",
        "```\n",
        "x^2 + y^2 + z^2 = 1\n",
        "x^2 + y^2 + z^2 = 2\n",
        "```\n",
        "Subtracting both equations:\n",
        "```\n",
        "1 ≠ 2\n",
        "```\n",
        "Since no valid equality exists, the spheres have no common points.\n",
        "\n",
        "#### **Curve Formed by Intersection of Two Spheres**\n",
        "Given equations:\n",
        "```\n",
        "x^2 + y^2 + z^2 = 1\n",
        "(x - 1)^2 + y^2 + z^2 = 1\n",
        "```\n",
        "Expanding the second equation:\n",
        "```\n",
        "x^2 - 2x + 1 + y^2 + z^2 = 1\n",
        "```\n",
        "Rearrange:\n",
        "```\n",
        "x^2 + y^2 + z^2 - 2x + 1 = 1\n",
        "```\n",
        "Since \\( x^2 + y^2 + z^2 = 1 \\), substitute:\n",
        "```\n",
        "1 - 2x + 1 = 1\n",
        "-2x + 2 = 0\n",
        "x = 1\n",
        "```\n",
        "Thus, the intersection is:\n",
        "```\n",
        "(1, y, z),\n",
        "```\n",
        "which represents a circle in the plane \\( x = 1 \\) within the sphere.\n",
        "\n",
        "#### **Equation of the Tangent Plane to the Paraboloid**\n",
        "Given paraboloid:\n",
        "```\n",
        "z = (x - 1)^2 + y^2 + 1\n",
        "```\n",
        "Find partial derivatives:\n",
        "```\n",
        "∂z/∂x = 2(x - 1)\n",
        "∂z/∂y = 2y\n",
        "```\n",
        "At \\( P(1,0,1) \\):\n",
        "```\n",
        "∂z/∂x = 2(1 - 1) = 0\n",
        "∂z/∂y = 2(0) = 0\n",
        "```\n",
        "Equation of tangent plane:\n",
        "```\n",
        "z - 1 = 0(x - 1) + 0(y - 0)\n",
        "```\n",
        "Simplified:\n",
        "```\n",
        "z = 1\n",
        "```\n"
      ],
      "metadata": {
        "id": "-aWDtSyuarXZ"
      }
    }
  ]
}