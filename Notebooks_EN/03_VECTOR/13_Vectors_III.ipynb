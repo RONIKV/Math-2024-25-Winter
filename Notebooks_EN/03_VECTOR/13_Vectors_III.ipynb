{
  "nbformat": 4,
  "nbformat_minor": 0,
  "metadata": {
    "colab": {
      "provenance": []
    },
    "kernelspec": {
      "name": "python3",
      "display_name": "Python 3"
    },
    "language_info": {
      "name": "python"
    }
  },
  "cells": [
    {
      "cell_type": "markdown",
      "source": [
        "### Vectors III\n",
        "\n",
        "#### **Dividing a Line Segment in a Given Ratio**\n",
        "Given points:\n",
        "```\n",
        "A (-1, 2)\n",
        "B (3, -2)\n",
        "```\n",
        "To divide the line segment in the ratio 1:3, use the section formula:\n",
        "```\n",
        "P(x, y) = ((m*x₂ + n*x₁) / (m+n), (m*y₂ + n*y₁) / (m+n))\n",
        "```\n",
        "Substituting values:\n",
        "```\n",
        "P = ((1*3 + 3*(-1)) / (1+3), (1*(-2) + 3*2) / (1+3))\n",
        "P = ((3 - 3) / 4, (-2 + 6) / 4)\n",
        "P = (0, 1)\n",
        "```\n",
        "Illustrate the segment and division point on a graph.\n",
        "\n",
        "#### **Projection of Vector a onto OX and OY Axes**\n",
        "Given:\n",
        "```\n",
        "a = (3, 4)\n",
        "```\n",
        "**Projection onto OX-axis:**\n",
        "```\n",
        "Proj_OX(a) = (3, 0)\n",
        "```\n",
        "**Projection onto OY-axis:**\n",
        "```\n",
        "Proj_OY(a) = (0, 4)\n",
        "```\n",
        "Illustrate the projections on a graph.\n",
        "\n",
        "#### **Projection of Vector a onto Vector b**\n",
        "Given:\n",
        "```\n",
        "a = (2, 3)\n",
        "b = (1, 1)\n",
        "```\n",
        "**Formula:**\n",
        "```\n",
        "Proj_b(a) = ( (a ⋅ b) / (b ⋅ b) ) * b\n",
        "```\n",
        "Compute the projection and illustrate it on a graph.\n",
        "\n",
        "#### **Projection of Vector b onto Vector a**\n",
        "Given:\n",
        "```\n",
        "b = (1, 1)\n",
        "a = (2, 3)\n",
        "```\n",
        "**Formula:**\n",
        "```\n",
        "Proj_a(b) = ( (b ⋅ a) / (a ⋅ a) ) * a\n",
        "```\n",
        "Compute the projection and illustrate it on a graph.\n"
      ],
      "metadata": {
        "id": "ufrfDwSJYs5r"
      }
    }
  ]
}