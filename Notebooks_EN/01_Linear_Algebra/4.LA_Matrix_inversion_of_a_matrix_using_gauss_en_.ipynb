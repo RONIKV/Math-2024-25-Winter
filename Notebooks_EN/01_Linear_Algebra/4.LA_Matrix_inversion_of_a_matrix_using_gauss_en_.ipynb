{
  "nbformat": 4,
  "nbformat_minor": 0,
  "metadata": {
    "colab": {
      "provenance": []
    },
    "kernelspec": {
      "name": "python3",
      "display_name": "Python 3"
    },
    "language_info": {
      "name": "python"
    }
  },
  "cells": [
    {
      "cell_type": "markdown",
      "source": [
        "### Inverse of a Matrix using the Formula\n",
        "\n",
        "#### **Matrix A:**\n",
        "```\n",
        "2  0  1\n",
        "0  1  0\n",
        "1  2  0\n",
        "```\n",
        "**Finding the inverse of A:**\n",
        "\n",
        "Step 1: Compute the determinant of A:\n",
        "```\n",
        "Det(A) = 2 × (1×0 - 0×2) - 0 × (0×0 - 1×2) + 1 × (0×2 - 1×1)\n",
        "       = 2 × 0 - 0 + 1 × (-1)\n",
        "       = -1\n",
        "```\n",
        "Since Det(A) ≠ 0, the matrix is invertible.\n",
        "\n",
        "Step 2: Compute the adjugate matrix and multiply by \\(1/Det(A)\\) to get \\(A^{-1}\\).\n",
        "```\n",
        "A⁻¹ = (1 / -1) × adj(A)\n",
        "```\n",
        "**Verification:**\n",
        "Multiply A and \\(A^{-1}\\) to check if the result is the identity matrix.\n",
        "```\n",
        "A × A⁻¹ = I\n",
        "```\n",
        "\n",
        "### Rank of a Matrix\n",
        "\n",
        "#### **Matrix B:**\n",
        "```\n",
        "4  -3   7\n",
        "-1  6   3\n",
        " 2  9   1\n",
        "```\n",
        "**Finding the rank of B:**\n",
        "1. Convert B into row echelon form by performing row operations.\n",
        "2. Count the number of non-zero rows in the echelon form.\n",
        "3. The number of non-zero rows is the rank of the matrix.\n",
        "\n",
        "**Rank(B) = 3 (full rank, as it has 3 independent rows).**\n"
      ],
      "metadata": {
        "id": "yqlXk_txTZBO"
      }
    }
  ]
}
