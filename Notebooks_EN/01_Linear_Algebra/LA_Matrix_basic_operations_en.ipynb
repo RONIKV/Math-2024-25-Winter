{
  "nbformat": 4,
  "nbformat_minor": 0,
  "metadata": {
    "colab": {
      "provenance": []
    },
    "kernelspec": {
      "name": "python3",
      "display_name": "Python 3"
    },
    "language_info": {
      "name": "python"
    }
  },
  "cells": [
    {
      "cell_type": "code",
      "execution_count": 2,
      "metadata": {
        "colab": {
          "base_uri": "https://localhost:8080/"
        },
        "id": "9ICsqQMZFkQy",
        "outputId": "b73576e5-1850-4c84-d7f5-1f05e79ce756"
      },
      "outputs": [
        {
          "output_type": "stream",
          "name": "stdout",
          "text": [
            "A + B:\n",
            "[[ 6  8]\n",
            " [10 12]]\n",
            "A - B:\n",
            "[[-4 -4]\n",
            " [-4 -4]]\n",
            "A * B:\n",
            "[[ 5 12]\n",
            " [21 32]]\n"
          ]
        }
      ],
      "source": [
        "import numpy as np\n",
        "\n",
        "\n",
        "A = np.array([[1, 2], [3, 4]])\n",
        "B = np.array([[5, 6], [7, 8]])\n",
        "\n",
        "print(\"A + B:\")\n",
        "print(A + B)\n",
        "\n",
        "\n",
        "print(\"A - B:\")\n",
        "print(A - B)\n",
        "\n",
        "\n",
        "print(\"A * B:\")\n",
        "print(A * B)\n"
      ]
    },
    {
      "cell_type": "markdown",
      "source": [
        "## Basic Operations with Matrices\n",
        "In this notebook, we will work on basic operations of matrices such as addition, subtraction, multiplication and division.\n"
      ],
      "metadata": {
        "id": "gHl4S8RFGLq1"
      }
    }
  ]
}