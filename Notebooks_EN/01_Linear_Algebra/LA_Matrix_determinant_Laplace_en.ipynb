{
  "nbformat": 4,
  "nbformat_minor": 0,
  "metadata": {
    "colab": {
      "provenance": []
    },
    "kernelspec": {
      "name": "python3",
      "display_name": "Python 3"
    },
    "language_info": {
      "name": "python"
    }
  },
  "cells": [
    {
      "cell_type": "markdown",
      "source": [
        "## Determinants using Laplace Expansion\n",
        "This notebook explains how to compute the determinant of a matrix using the Laplace expansion method.\n",
        "\n",
        "### Topics Covered:\n",
        "1. Definition of determinant\n",
        "2. Laplace expansion method\n",
        "3. Step-by-step example\n"
      ],
      "metadata": {
        "id": "5SjNFWtArZ5f"
      }
    },
    {
      "cell_type": "code",
      "source": [
        "import sympy as sp\n",
        "\n",
        "\n",
        "matrix = sp.Matrix([[1, 2, 3], [0, 1, 4], [5, 6, 0]])\n",
        "\n",
        "determinant = matrix.det()\n",
        "print(f\"Determinant of the matrix is: {determinant}\")\n"
      ],
      "metadata": {
        "colab": {
          "base_uri": "https://localhost:8080/"
        },
        "id": "GsqWmNthrbZP",
        "outputId": "13cf3048-c87b-484e-faf7-252400ac7b72"
      },
      "execution_count": 92,
      "outputs": [
        {
          "output_type": "stream",
          "name": "stdout",
          "text": [
            "Determinant of the matrix is: 1\n"
          ]
        }
      ]
    }
  ]
}