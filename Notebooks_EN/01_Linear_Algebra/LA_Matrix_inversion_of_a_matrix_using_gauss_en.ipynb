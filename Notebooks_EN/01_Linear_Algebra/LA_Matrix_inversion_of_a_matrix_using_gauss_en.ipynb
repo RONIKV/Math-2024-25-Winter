{
  "nbformat": 4,
  "nbformat_minor": 0,
  "metadata": {
    "colab": {
      "provenance": []
    },
    "kernelspec": {
      "name": "python3",
      "display_name": "Python 3"
    },
    "language_info": {
      "name": "python"
    }
  },
  "cells": [
    {
      "cell_type": "markdown",
      "source": [
        "## Inversion of a Matrix using Gauss-Jordan Elimination\n",
        "This notebook explores how to find the inverse of a matrix using the Gauss-Jordan elimination method.\n",
        "\n",
        "### Topics Covered:\n",
        "1. Definition of matrix inverse\n",
        "2. Gauss-Jordan elimination method\n",
        "3. Step-by-step implementation\n"
      ],
      "metadata": {
        "id": "xqoap11irDnN"
      }
    },
    {
      "cell_type": "code",
      "source": [
        "import numpy as np\n",
        "\n",
        "\n",
        "matrix = np.array([[1, 2, 3], [0, 1, 4], [5, 6, 0]], float)\n",
        "\n",
        "\n",
        "def gauss_jordan_inversion(matrix):\n",
        "    augmented_matrix = np.hstack([matrix, np.eye(matrix.shape[0])])\n",
        "    rows, cols = augmented_matrix.shape\n",
        "    for i in range(rows):\n",
        "        augmented_matrix[i] = augmented_matrix[i] / augmented_matrix[i, i]\n",
        "        for j in range(rows):\n",
        "            if i != j:\n",
        "                augmented_matrix[j] -= augmented_matrix[j, i] * augmented_matrix[i]\n",
        "    return augmented_matrix[:, cols//2:]\n",
        "\n",
        "inverse_matrix = gauss_jordan_inversion(matrix)\n",
        "print(\"Inverse of the matrix is:\")\n",
        "print(inverse_matrix)\n"
      ],
      "metadata": {
        "colab": {
          "base_uri": "https://localhost:8080/"
        },
        "id": "1at68vMTrEoD",
        "outputId": "05d5bd2c-fb26-4f30-a858-8b7f0e380b6a"
      },
      "execution_count": 90,
      "outputs": [
        {
          "output_type": "stream",
          "name": "stdout",
          "text": [
            "Inverse of the matrix is:\n",
            "[[-24.  18.   5.]\n",
            " [ 20. -15.  -4.]\n",
            " [ -5.   4.   1.]]\n"
          ]
        }
      ]
    }
  ]
}