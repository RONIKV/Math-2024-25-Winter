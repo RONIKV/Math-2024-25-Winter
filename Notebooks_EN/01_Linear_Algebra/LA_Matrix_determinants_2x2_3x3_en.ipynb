{
  "nbformat": 4,
  "nbformat_minor": 0,
  "metadata": {
    "colab": {
      "provenance": []
    },
    "kernelspec": {
      "name": "python3",
      "display_name": "Python 3"
    },
    "language_info": {
      "name": "python"
    }
  },
  "cells": [
    {
      "cell_type": "markdown",
      "source": [
        "## Determinants of 2x2 and 3x3 Matrices\n",
        "In this notebook, we will explore how to calculate the determinants of 2x2 and 3x3 matrices using mathematical formulas and Python's NumPy library.\n",
        "\n"
      ],
      "metadata": {
        "id": "gHl4S8RFGLq1"
      }
    },
    {
      "cell_type": "code",
      "source": [
        "import numpy as np\n",
        "\n",
        "\n",
        "matrix_2x2 = np.array([[4, 7], [2, 6]])\n",
        "det_2x2 = np.linalg.det(matrix_2x2)\n",
        "print(\"2x2 Matrix:\")\n",
        "print(matrix_2x2)\n",
        "print(f\"Determinant (2x2): {det_2x2}\")\n",
        "\n",
        "\n",
        "matrix_3x3 = np.array([[6, 1, 1], [4, -2, 5], [2, 8, 7]])\n",
        "det_3x3 = np.linalg.det(matrix_3x3)\n",
        "print(\"\\n3x3 Matrix:\")\n",
        "print(matrix_3x3)\n",
        "print(f\"Determinant (3x3): {det_3x3}\")\n"
      ],
      "metadata": {
        "id": "4AE-unSRJJqs"
      },
      "execution_count": null,
      "outputs": []
    }
  ]
}