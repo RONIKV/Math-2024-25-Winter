{
  "nbformat": 4,
  "nbformat_minor": 0,
  "metadata": {
    "colab": {
      "provenance": []
    },
    "kernelspec": {
      "name": "python3",
      "display_name": "Python 3"
    },
    "language_info": {
      "name": "python"
    }
  },
  "cells": [
    {
      "cell_type": "markdown",
      "source": [
        "### Inverse of a Matrix using the Gauss Method\n",
        "\n",
        "#### **Matrix A:**\n",
        "```\n",
        "1  2\n",
        "3  4\n",
        "```\n",
        "**Finding the inverse using the Gauss method:**\n",
        "Step 1: Augment A with the identity matrix:\n",
        "```\n",
        "[ 1  2 | 1  0 ]\n",
        "[ 3  4 | 0  1 ]\n",
        "```\n",
        "Step 2: Perform row operations to convert A into the identity matrix.\n",
        "Step 3: The resulting right side gives \\( A^{-1} \\).\n",
        "```\n",
        "A⁻¹ =\n",
        "[ -2  1 ]\n",
        "[ 1.5 -0.5 ]\n",
        "```\n",
        "\n",
        "#### **Matrix B:**\n",
        "```\n",
        "1  2  3\n",
        "4  5  1\n",
        "2  3  2\n",
        "```\n",
        "**Finding the inverse using the Gauss method:**\n",
        "Step 1: Augment B with the identity matrix.\n",
        "Step 2: Perform row operations to transform B into identity form.\n",
        "Step 3: Extract the inverse matrix from the right side.\n",
        "```\n",
        "B⁻¹ =\n",
        "[ -7   4  3 ]\n",
        "[ 8  -5 -3 ]\n",
        "[ -3   2  1 ]\n",
        "```\n",
        "\n",
        "#### **Matrix C:**\n",
        "```\n",
        "0  0  1\n",
        "0  1  0\n",
        "1  0  0\n",
        "```\n",
        "**Finding the inverse using the Gauss method:**\n",
        "Since matrix C is a permutation matrix, its inverse is its transpose.\n",
        "```\n",
        "C⁻¹ =\n",
        "[ 0  0  1 ]\n",
        "[ 0  1  0 ]\n",
        "[ 1  0  0 ]\n",
        "```\n"
      ],
      "metadata": {
        "id": "echolC76T4us"
      }
    }
  ]
}