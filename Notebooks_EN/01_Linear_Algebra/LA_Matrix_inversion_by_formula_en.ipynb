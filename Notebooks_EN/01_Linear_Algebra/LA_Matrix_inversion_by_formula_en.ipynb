{
  "nbformat": 4,
  "nbformat_minor": 0,
  "metadata": {
    "colab": {
      "provenance": []
    },
    "kernelspec": {
      "name": "python3",
      "display_name": "Python 3"
    },
    "language_info": {
      "name": "python"
    }
  },
  "cells": [
    {
      "cell_type": "markdown",
      "source": [
        "## Matrix Inversion Using Formula\n",
        "In this notebook, we will explore how to compute the inverse of 2x2 matrices using the formula:\n",
        "\n",
        "If `A = [[a, b], [c, d]]`, the inverse of `A` is:\n",
        "\n",
        "`A⁻¹ = (1 / det(A)) * [[d, -b], [-c, a]]`\n",
        "\n",
        "We will also verify the results using NumPy.\n",
        "\n"
      ],
      "metadata": {
        "id": "gHl4S8RFGLq1"
      }
    },
    {
      "cell_type": "code",
      "source": [
        "import numpy as np\n",
        "\n",
        "# 2x2 Matrisin Tersi (Formülle)\n",
        "matrix_2x2 = np.array([[4, 7], [2, 6]])\n",
        "det = np.linalg.det(matrix_2x2)\n",
        "\n",
        "if det != 0:\n",
        "    inverse_manual = (1 / det) * np.array([[matrix_2x2[1, 1], -matrix_2x2[0, 1]],\n",
        "                                           [-matrix_2x2[1, 0], matrix_2x2[0, 0]]])\n",
        "    print(\"Matrix:\")\n",
        "    print(matrix_2x2)\n",
        "    print(\"\\nInverse (manual calculation):\")\n",
        "    print(inverse_manual)\n",
        "\n",
        "    # NumPy ile Doğrulama\n",
        "    inverse_numpy = np.linalg.inv(matrix_2x2)\n",
        "    print(\"\\nInverse (NumPy):\")\n",
        "    print(inverse_numpy)\n",
        "else:\n",
        "    print(\"Matrix is singular and cannot be inverted.\")\n"
      ],
      "metadata": {
        "colab": {
          "base_uri": "https://localhost:8080/"
        },
        "id": "4AE-unSRJJqs",
        "outputId": "f6d6d087-98bb-4aad-bd79-d899c6edc0bd"
      },
      "execution_count": 3,
      "outputs": [
        {
          "output_type": "stream",
          "name": "stdout",
          "text": [
            "Matrix:\n",
            "[[4 7]\n",
            " [2 6]]\n",
            "\n",
            "Inverse (manual calculation):\n",
            "[[ 0.6 -0.7]\n",
            " [-0.2  0.4]]\n",
            "\n",
            "Inverse (NumPy):\n",
            "[[ 0.6 -0.7]\n",
            " [-0.2  0.4]]\n"
          ]
        }
      ]
    }
  ]
}