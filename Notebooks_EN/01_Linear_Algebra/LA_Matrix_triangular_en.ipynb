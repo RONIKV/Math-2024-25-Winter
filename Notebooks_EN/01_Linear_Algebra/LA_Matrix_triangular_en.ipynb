{
  "nbformat": 4,
  "nbformat_minor": 0,
  "metadata": {
    "colab": {
      "provenance": []
    },
    "kernelspec": {
      "name": "python3",
      "display_name": "Python 3"
    },
    "language_info": {
      "name": "python"
    }
  },
  "cells": [
    {
      "cell_type": "markdown",
      "source": [
        "## Matrix Triangularization\n",
        "This notebook explains how to transform a matrix into its triangular form using row operations.\n",
        "\n",
        "### Topics Covered:\n",
        "1. Types of triangular matrices\n",
        "2. Row operations for triangularization\n",
        "3. Example of transforming a matrix into an upper triangular form\n"
      ],
      "metadata": {
        "id": "n8FmAmAQrmsx"
      }
    },
    {
      "cell_type": "code",
      "source": [
        "import sympy as sp\n",
        "\n",
        "\n",
        "matrix = sp.Matrix([[1, 2, 3], [4, 5, 6], [7, 8, 9]])\n",
        "\n",
        "\n",
        "triangular_matrix = matrix.row_join(matrix)\n",
        "triangular_matrix.rref()[0]\n",
        "print(\"Upper triangular matrix:\")\n",
        "print(triangular_matrix)\n"
      ],
      "metadata": {
        "id": "UOsPWLfyrnko",
        "outputId": "20da437a-30ca-4322-be46-6f2e285e7b00",
        "colab": {
          "base_uri": "https://localhost:8080/"
        }
      },
      "execution_count": 93,
      "outputs": [
        {
          "output_type": "stream",
          "name": "stdout",
          "text": [
            "Upper triangular matrix:\n",
            "Matrix([[1, 2, 3, 1, 2, 3], [4, 5, 6, 4, 5, 6], [7, 8, 9, 7, 8, 9]])\n"
          ]
        }
      ]
    }
  ]
}