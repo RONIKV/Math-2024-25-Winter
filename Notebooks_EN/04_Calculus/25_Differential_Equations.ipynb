{
  "nbformat": 4,
  "nbformat_minor": 0,
  "metadata": {
    "colab": {
      "provenance": []
    },
    "kernelspec": {
      "name": "python3",
      "display_name": "Python 3"
    },
    "language_info": {
      "name": "python"
    }
  },
  "cells": [
    {
      "cell_type": "markdown",
      "source": [
        "## Differential Equations\n",
        "This notebook explores differential equations and methods for solving them.\n",
        "\n",
        "### Topics Covered:\n",
        "1. First-order differential equations\n",
        "2. Separable differential equations\n",
        "3. Linear differential equations\n",
        "4. Applications of differential equations\n"
      ],
      "metadata": {
        "id": "D-aNhRLPoVUz"
      }
    },
    {
      "cell_type": "code",
      "source": [
        "import sympy as sp\n",
        "\n",
        "\n",
        "x = sp.Symbol('x')\n",
        "y = sp.Function('y')(x)\n",
        "\n",
        "\n",
        "eq = sp.Eq(y.diff(x), y * sp.sin(x))\n",
        "\n",
        "\n",
        "solution = sp.dsolve(eq)\n",
        "print(f\"Solution to the differential equation dy/dx = y*sin(x):\")\n",
        "print(solution)\n"
      ],
      "metadata": {
        "colab": {
          "base_uri": "https://localhost:8080/"
        },
        "id": "5RavPrjloXVQ",
        "outputId": "517fa52a-134e-4030-abb6-3f77bb1067ef"
      },
      "execution_count": 74,
      "outputs": [
        {
          "output_type": "stream",
          "name": "stdout",
          "text": [
            "Solution to the differential equation dy/dx = y*sin(x):\n",
            "Eq(y(x), C1*exp(-cos(x)))\n"
          ]
        }
      ]
    },
    {
      "cell_type": "code",
      "source": [
        "\n",
        "eq_linear = sp.Eq(y.diff(x) + y, sp.exp(x))\n",
        "\n",
        "solution_linear = sp.dsolve(eq_linear)\n",
        "print(f\"Solution to the linear differential equation dy/dx + y = e^x:\")\n",
        "print(solution_linear)\n"
      ],
      "metadata": {
        "colab": {
          "base_uri": "https://localhost:8080/"
        },
        "id": "P4lgE5zHoby6",
        "outputId": "42264b11-b6ba-41b6-f9aa-45892a536985"
      },
      "execution_count": 75,
      "outputs": [
        {
          "output_type": "stream",
          "name": "stdout",
          "text": [
            "Solution to the linear differential equation dy/dx + y = e^x:\n",
            "Eq(y(x), C1*exp(-x) + exp(x)/2)\n"
          ]
        }
      ]
    },
    {
      "cell_type": "code",
      "source": [
        "\n",
        "P = sp.Function('P')(x)\n",
        "r = sp.Symbol('r')\n",
        "eq_investment = sp.Eq(P.diff(x), r * P)\n",
        "\n",
        "\n",
        "solution_investment = sp.dsolve(eq_investment)\n",
        "print(f\"Solution to the investment growth model dP/dt = r*P:\")\n",
        "print(solution_investment)\n"
      ],
      "metadata": {
        "colab": {
          "base_uri": "https://localhost:8080/"
        },
        "id": "1wJSzSWvofSe",
        "outputId": "ca5c4c52-0db2-4304-d0df-f228a6d0b223"
      },
      "execution_count": 76,
      "outputs": [
        {
          "output_type": "stream",
          "name": "stdout",
          "text": [
            "Solution to the investment growth model dP/dt = r*P:\n",
            "Eq(P(x), C1*exp(r*x))\n"
          ]
        }
      ]
    },
    {
      "cell_type": "code",
      "source": [
        "\n",
        "eq_nonhomogeneous = sp.Eq(y.diff(x) - 2*y, sp.exp(x))\n",
        "\n",
        "solution_nonhomogeneous = sp.dsolve(eq_nonhomogeneous)\n",
        "print(f\"Solution to the nonhomogeneous differential equation dy/dx - 2y = e^x:\")\n",
        "print(solution_nonhomogeneous)\n"
      ],
      "metadata": {
        "colab": {
          "base_uri": "https://localhost:8080/"
        },
        "id": "cI_aa_Y3ojEf",
        "outputId": "3d084573-045e-445a-c195-ed1cbfc4972a"
      },
      "execution_count": 77,
      "outputs": [
        {
          "output_type": "stream",
          "name": "stdout",
          "text": [
            "Solution to the nonhomogeneous differential equation dy/dx - 2y = e^x:\n",
            "Eq(y(x), (C1*exp(x) - 1)*exp(x))\n"
          ]
        }
      ]
    },
    {
      "cell_type": "markdown",
      "source": [
        "### Summary of Differential Equations\n",
        "1. **Separable Differential Equations**:\n",
        "   - Can be solved by separating variables and integrating both sides.\n",
        "2. **Linear Differential Equations**:\n",
        "   - Have the general form dy/dx + P(x)y = Q(x), solved using an integrating factor.\n",
        "3. **Applications**:\n",
        "   - Population growth, investment growth, motion under force, and many more real-world problems.\n"
      ],
      "metadata": {
        "id": "hUQcySPYomg6"
      }
    }
  ]
}