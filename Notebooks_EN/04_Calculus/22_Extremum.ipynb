{
  "nbformat": 4,
  "nbformat_minor": 0,
  "metadata": {
    "colab": {
      "provenance": []
    },
    "kernelspec": {
      "name": "python3",
      "display_name": "Python 3"
    },
    "language_info": {
      "name": "python"
    }
  },
  "cells": [
    {
      "cell_type": "markdown",
      "source": [
        "## Finding Extrema (Maximum and Minimum Points)\n",
        "This notebook explores how to find the local and global extrema of a function using calculus.\n",
        "\n",
        "### Topics Covered:\n",
        "1. Critical points of a function\n",
        "2. First derivative test\n",
        "3. Second derivative test\n",
        "4. Examples of finding extrema\n"
      ],
      "metadata": {
        "id": "pBq8sI0qmCt8"
      }
    },
    {
      "cell_type": "code",
      "source": [
        "import sympy as sp\n",
        "\n",
        "\n",
        "x = sp.Symbol('x')\n",
        "f = x**3 - 6*x**2 + 9*x + 1\n",
        "\n",
        "critical_points = sp.solveset(sp.diff(f, x), x, domain=sp.S.Reals)\n",
        "print(f\"Critical points of f(x) = {f}: {critical_points}\")\n"
      ],
      "metadata": {
        "colab": {
          "base_uri": "https://localhost:8080/"
        },
        "id": "5PEh-45emG1w",
        "outputId": "e5be17ce-204c-4c5d-8722-37cd35978488"
      },
      "execution_count": 59,
      "outputs": [
        {
          "output_type": "stream",
          "name": "stdout",
          "text": [
            "Critical points of f(x) = x**3 - 6*x**2 + 9*x + 1: {1, 3}\n"
          ]
        }
      ]
    },
    {
      "cell_type": "code",
      "source": [
        "\n",
        "for point in critical_points:\n",
        "    left = sp.diff(f, x).subs(x, point - 0.1)\n",
        "    right = sp.diff(f, x).subs(x, point + 0.1)\n",
        "\n",
        "    if left > 0 and right < 0:\n",
        "        print(f\"x = {point} is a local maximum.\")\n",
        "    elif left < 0 and right > 0:\n",
        "        print(f\"x = {point} is a local minimum.\")\n",
        "    else:\n",
        "        print(f\"x = {point} is a saddle point.\")\n"
      ],
      "metadata": {
        "colab": {
          "base_uri": "https://localhost:8080/"
        },
        "id": "4gpV3aGYmJbY",
        "outputId": "de3cc4ef-e50b-44ea-e828-e8786a14b47f"
      },
      "execution_count": 60,
      "outputs": [
        {
          "output_type": "stream",
          "name": "stdout",
          "text": [
            "x = 1 is a local maximum.\n",
            "x = 3 is a local minimum.\n"
          ]
        }
      ]
    },
    {
      "cell_type": "code",
      "source": [
        "\n",
        "for point in critical_points:\n",
        "    second_derivative = sp.diff(f, x, 2).subs(x, point)\n",
        "    if second_derivative > 0:\n",
        "        print(f\"x = {point} is a local minimum (second derivative = {second_derivative}).\")\n",
        "    elif second_derivative < 0:\n",
        "        print(f\"x = {point} is a local maximum (second derivative = {second_derivative}).\")\n",
        "    else:\n",
        "        print(f\"x = {point} is inconclusive (second derivative = {second_derivative}).\")\n"
      ],
      "metadata": {
        "colab": {
          "base_uri": "https://localhost:8080/"
        },
        "id": "tl_2MgMZmLTB",
        "outputId": "6672b0b0-e8ad-4b4c-b0da-f829c38b5b8e"
      },
      "execution_count": 61,
      "outputs": [
        {
          "output_type": "stream",
          "name": "stdout",
          "text": [
            "x = 1 is a local maximum (second derivative = -6).\n",
            "x = 3 is a local minimum (second derivative = 6).\n"
          ]
        }
      ]
    },
    {
      "cell_type": "code",
      "source": [
        "import sympy as sp\n",
        "\n",
        "\n",
        "f = x**3 - 6*x**2 + 9*x + 1\n",
        "\n",
        "interval = sp.Interval(-1, 4)\n",
        "\n",
        "\n",
        "critical_points = sp.solveset(sp.diff(f, x), x, domain=sp.S.Reals)\n",
        "\n",
        "points_to_evaluate = list(critical_points) + [interval.start, interval.end]\n",
        "\n",
        "values = [f.subs(x, point) for point in points_to_evaluate]\n",
        "global_max = max(values)\n",
        "global_min = min(values)\n",
        "\n",
        "print(f\"Global maximum of f(x) = {f} in {interval}: {global_max}\")\n",
        "print(f\"Global minimum of f(x) = {f} in {interval}: {global_min}\")\n"
      ],
      "metadata": {
        "colab": {
          "base_uri": "https://localhost:8080/"
        },
        "id": "sH0O5ejLmVWl",
        "outputId": "ce630bd7-c634-452d-e388-525416c2d305"
      },
      "execution_count": 65,
      "outputs": [
        {
          "output_type": "stream",
          "name": "stdout",
          "text": [
            "Global maximum of f(x) = x**3 - 6*x**2 + 9*x + 1 in Interval(-1, 4): 5\n",
            "Global minimum of f(x) = x**3 - 6*x**2 + 9*x + 1 in Interval(-1, 4): -15\n"
          ]
        }
      ]
    },
    {
      "cell_type": "markdown",
      "source": [
        "### Summary of Extrema\n",
        "1. **Critical Points**:\n",
        "   - Found by solving f'(x) = 0.\n",
        "2. **First Derivative Test**:\n",
        "   - Determines if a critical point is a local maximum or minimum by checking the sign of f'(x).\n",
        "3. **Second Derivative Test**:\n",
        "   - Uses the concavity of the function to classify critical points.\n",
        "4. **Global Extrema**:\n",
        "   - Found by evaluating the function at endpoints and critical points.\n"
      ],
      "metadata": {
        "id": "ofJuxwwDmpRE"
      }
    }
  ]
}