{
  "nbformat": 4,
  "nbformat_minor": 0,
  "metadata": {
    "colab": {
      "provenance": []
    },
    "kernelspec": {
      "name": "python3",
      "display_name": "Python 3"
    },
    "language_info": {
      "name": "python"
    }
  },
  "cells": [
    {
      "cell_type": "markdown",
      "source": [
        "### Problem : Find the extremum\n",
        "\n",
        "1. **Maximizing profit**\n",
        "   \n",
        "   The profit function is:\n",
        "   $$ P(u) = -2u^2 + 50u - 300 $$\n",
        "   \n",
        "   To find the number of units that maximize profit, take the derivative:\n",
        "   $$ P'(u) = -4u + 50 $$\n",
        "   \n",
        "   Set it to zero:\n",
        "   $$ -4u + 50 = 0 \\Rightarrow u = 12.5 $$\n",
        "   \n",
        "   Since \\( P''(u) = -4 \\), which is negative, this is a maximum.\n",
        "   \n",
        "   **Optimal units sold:** 12 or 13 (since units must be whole numbers).\n",
        "\n",
        "2. **Maximizing rectangle area with 10m string**\n",
        "   \n",
        "   Let the width be \\( x \\) and the length be \\( y \\). The perimeter equation is:\n",
        "   $$ 2x + 2y = 10 \\Rightarrow y = 5 - x $$\n",
        "   \n",
        "   The area function is:\n",
        "   $$ A = x(5 - x) = 5x - x^2 $$\n",
        "   \n",
        "   Taking derivative:\n",
        "   $$ A'(x) = 5 - 2x $$\n",
        "   \n",
        "   Setting it to zero:\n",
        "   $$ 5 - 2x = 0 \\Rightarrow x = 2.5, \\quad y = 2.5 $$\n",
        "   \n",
        "   **Optimal dimensions:** 2.5m × 2.5m (square).\n",
        "\n",
        "3. **Finding extremum of** \\( f(x) = x^2 + 3x - 5 \\)\n",
        "   \n",
        "   Taking derivative:\n",
        "   $$ f'(x) = 2x + 3 $$\n",
        "   \n",
        "   Setting to zero:\n",
        "   $$ 2x + 3 = 0 \\Rightarrow x = -\\frac{3}{2} $$\n",
        "   \n",
        "   Since \\( f''(x) = 2 \\), which is positive, this is a minimum.\n",
        "   \n",
        "   **Minimum at** \\( x = -3/2 \\).\n",
        "\n",
        "4. **Finding extremum of** \\( f(x) = \\frac{x^2 + 2x + 1}{x - 1} \\)\n",
        "   \n",
        "   Define:\n",
        "   $$ f(x) = \\frac{(x+1)^2}{x-1} $$\n",
        "   \n",
        "   Differentiate using quotient rule:\n",
        "   $$ f'(x) = \\frac{(2x+2)(x-1) - (x+1)^2}{(x-1)^2} $$\n",
        "   \n",
        "   Simplify:\n",
        "   $$ f'(x) = \\frac{2x^2 - 2x + 2x - 2 - (x^2 + 2x + 1)}{(x-1)^2} $$\n",
        "   $$ = \\frac{x^2 - 3}{(x-1)^2} $$\n",
        "   \n",
        "   Set to zero:\n",
        "   $$ x^2 - 3 = 0 \\Rightarrow x = \\pm \\sqrt{3} $$\n",
        "   \n",
        "   Evaluate concavity with \\( f''(x) \\) to classify extremum.\n",
        "\n",
        "---\n"
      ],
      "metadata": {
        "id": "wjL9ByNgl1G8"
      }
    }
  ]
}