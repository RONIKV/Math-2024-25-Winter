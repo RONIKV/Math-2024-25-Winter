{
  "nbformat": 4,
  "nbformat_minor": 0,
  "metadata": {
    "colab": {
      "provenance": []
    },
    "kernelspec": {
      "name": "python3",
      "display_name": "Python 3"
    },
    "language_info": {
      "name": "python"
    }
  },
  "cells": [
    {
      "cell_type": "markdown",
      "source": [
        "## Limits of Real Functions\n",
        "This notebook explores how to compute the limits of real functions in calculus.\n",
        "\n",
        "### Topics Covered:\n",
        "1. Left-hand and right-hand limits\n",
        "2. Infinite limits\n",
        "3. Limits at infinity\n",
        "4. Examples of function limits\n"
      ],
      "metadata": {
        "id": "V52VH39Hk-CQ"
      }
    },
    {
      "cell_type": "code",
      "source": [
        "import sympy as sp\n",
        "\n",
        "\n",
        "x = sp.Symbol('x')\n",
        "\n",
        "\n",
        "f = (x**2 - 1) / (x - 1)\n",
        "\n",
        "\n",
        "limit_at_1 = sp.limit(f, x, 1)\n",
        "print(f\"The limit of f(x) = {f} as x -> 1: {limit_at_1}\")\n"
      ],
      "metadata": {
        "colab": {
          "base_uri": "https://localhost:8080/"
        },
        "id": "Q22TEEDOlBdt",
        "outputId": "7e0069cf-9a5d-47c7-87d4-4774471160e4"
      },
      "execution_count": 51,
      "outputs": [
        {
          "output_type": "stream",
          "name": "stdout",
          "text": [
            "The limit of f(x) = (x**2 - 1)/(x - 1) as x -> 1: 2\n"
          ]
        }
      ]
    },
    {
      "cell_type": "code",
      "source": [
        "\n",
        "g = 1 / x\n",
        "\n",
        "\n",
        "limit_at_infinity = sp.limit(g, x, sp.oo)\n",
        "print(f\"The limit of g(x) = {g} as x -> ∞: {limit_at_infinity}\")\n"
      ],
      "metadata": {
        "colab": {
          "base_uri": "https://localhost:8080/"
        },
        "id": "NIuwblhmlEu4",
        "outputId": "55ff838a-117d-4ef7-89d0-416bb5a650cc"
      },
      "execution_count": 52,
      "outputs": [
        {
          "output_type": "stream",
          "name": "stdout",
          "text": [
            "The limit of g(x) = 1/x as x -> ∞: 0\n"
          ]
        }
      ]
    },
    {
      "cell_type": "code",
      "source": [
        "\n",
        "h = sp.Piecewise((x**2, x < 0), (x, x >= 0))\n",
        "\n",
        "\n",
        "right_limit = sp.limit(h, x, 0, dir='+')\n",
        "left_limit = sp.limit(h, x, 0, dir='-')\n",
        "\n",
        "print(f\"The right-hand limit of h(x) = {h} as x -> 0+: {right_limit}\")\n",
        "print(f\"The left-hand limit of h(x) = {h} as x -> 0-: {left_limit}\")\n"
      ],
      "metadata": {
        "colab": {
          "base_uri": "https://localhost:8080/"
        },
        "id": "gdnwkB1flHJ8",
        "outputId": "bc50f83a-3225-4fc4-cd99-d835bb750b63"
      },
      "execution_count": 53,
      "outputs": [
        {
          "output_type": "stream",
          "name": "stdout",
          "text": [
            "The right-hand limit of h(x) = Piecewise((x**2, x < 0), (x, True)) as x -> 0+: 0\n",
            "The left-hand limit of h(x) = Piecewise((x**2, x < 0), (x, True)) as x -> 0-: 0\n"
          ]
        }
      ]
    },
    {
      "cell_type": "code",
      "source": [
        "\n",
        "f_asymptote = 1 / (x - 1)\n",
        "\n",
        "\n",
        "limit_to_asymptote = sp.limit(f_asymptote, x, 1)\n",
        "print(f\"The limit of f(x) = {f_asymptote} as x -> 1: {limit_to_asymptote}\")\n"
      ],
      "metadata": {
        "id": "wb4MlcuzlJkC",
        "outputId": "63f8ac03-f897-4641-9560-e0d398319f3a",
        "colab": {
          "base_uri": "https://localhost:8080/"
        }
      },
      "execution_count": 54,
      "outputs": [
        {
          "output_type": "stream",
          "name": "stdout",
          "text": [
            "The limit of f(x) = 1/(x - 1) as x -> 1: oo\n"
          ]
        }
      ]
    },
    {
      "cell_type": "markdown",
      "source": [
        "### Summary of Function Limits\n",
        "1. **Left-hand and Right-hand Limits**:\n",
        "   - If the left-hand and right-hand limits are equal, the limit exists.\n",
        "2. **Infinite Limits**:\n",
        "   - If the function grows arbitrarily large or small, the limit is infinite.\n",
        "3. **Limits at Infinity**:\n",
        "   - Determine the behavior of the function as x approaches ±∞.\n",
        "4. **Asymptotes**:\n",
        "   - Vertical asymptotes occur when the function approaches ±∞ at a certain point.\n"
      ],
      "metadata": {
        "id": "JZ7-GxFVlLci"
      }
    }
  ]
}