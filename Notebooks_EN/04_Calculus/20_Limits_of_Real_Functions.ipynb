{
  "nbformat": 4,
  "nbformat_minor": 0,
  "metadata": {
    "colab": {
      "provenance": []
    },
    "kernelspec": {
      "name": "python3",
      "display_name": "Python 3"
    },
    "language_info": {
      "name": "python"
    }
  },
  "cells": [
    {
      "cell_type": "markdown",
      "source": [
        "\n",
        "\n",
        "### Problem : Compute limits\n",
        "\n",
        "1. $$ \\lim_{x \\to \\infty} \\frac{x^3 + 2x^2}{x^4 - 3x^3} $$\n",
        "   \n",
        "   **Solution:** Divide numerator and denominator by \\( x^4 \\):\n",
        "   $$ \\lim_{x \\to \\infty} \\frac{\\frac{x^3}{x^4} + \\frac{2x^2}{x^4}}{\\frac{x^4}{x^4} - \\frac{3x^3}{x^4}} = \\lim_{x \\to \\infty} \\frac{\\frac{1}{x} + \\frac{2}{x^2}}{1 - \\frac{3}{x}} $$\n",
        "   \n",
        "   As \\( x \\to \\infty \\):\n",
        "   $$ \\frac{\\frac{1}{x} + \\frac{2}{x^2}}{1 - \\frac{3}{x}} \\to \\frac{0 + 0}{1 - 0} = 0 $$\n",
        "\n",
        "   **Result:**\n",
        "   $$ \\lim_{x \\to \\infty} \\frac{x^3 + 2x^2}{x^4 - 3x^3} = 0 $$\n",
        "\n",
        "2. $$ \\lim_{x \\to 0} \\frac{\\sin(3x)}{2x + 1} $$\n",
        "   \n",
        "   **Solution:** Use the approximation \\( \\sin(3x) \\approx 3x \\) for small \\( x \\):\n",
        "   $$ \\lim_{x \\to 0} \\frac{\\sin(3x)}{2x + 1} = \\lim_{x \\to 0} \\frac{3x}{2x + 1} $$\n",
        "   \n",
        "   Substitute \\( x = 0 \\):\n",
        "   $$ \\frac{3(0)}{2(0) + 1} = 0 $$\n",
        "\n",
        "   **Result:**\n",
        "   $$ \\lim_{x \\to 0} \\frac{\\sin(3x)}{2x + 1} = 0 $$\n",
        "\n",
        "### Problem : Find asymptotes\n",
        "\n",
        "1. For \\( f(x) = \\frac{x^2 - 1}{x^2 + 1} \\):\n",
        "   \n",
        "   - **Horizontal asymptote:** As \\( x \\to \\infty \\), divide numerator and denominator by \\( x^2 \\):\n",
        "     $$ \\lim_{x \\to \\infty} \\frac{x^2 - 1}{x^2 + 1} = \\frac{1 - \\frac{1}{x^2}}{1 + \\frac{1}{x^2}} \\to \\frac{1}{1} = 1 $$\n",
        "     Thus, \\( y = 1 \\) is a horizontal asymptote.\n",
        "   \n",
        "   - **Vertical asymptotes:** None, as the denominator \\( x^2 + 1 \\) never equals zero.\n",
        "\n",
        "2. For  \\( $$ g(x) = \\frac{\\sin(x)}{x^2 + 1} $$ \\):\n",
        "   - **Horizontal asymptote:** As \\( x \\to \\infty \\):\n",
        "     $$ \\lim_{x \\to \\infty} \\frac{\\sin(x)}{x^2 + 1} = 0 $$\n",
        "     because \\( \\sin(x) \\) oscillates between -1 and 1, while \\( x^2 + 1 \\to \\infty \\).\n",
        "   \n",
        "   - **Vertical asymptotes:** None, as the denominator \\( x^2 + 1 \\) never equals zero.\n",
        "\n",
        "---\n"
      ],
      "metadata": {
        "id": "we67xTTanlwQ"
      }
    }
  ]
}