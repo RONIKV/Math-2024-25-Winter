{
  "nbformat": 4,
  "nbformat_minor": 0,
  "metadata": {
    "colab": {
      "provenance": []
    },
    "kernelspec": {
      "name": "python3",
      "display_name": "Python 3"
    },
    "language_info": {
      "name": "python"
    }
  },
  "cells": [
    {
      "cell_type": "markdown",
      "source": [
        "### Problem : Compute limits of sequences\n",
        "\n",
        "1. $$ \\lim_{n \\to \\infty} \\frac{n^2 + 3n^2}{n^2 - 2n} $$\n",
        "   \n",
        "   **Solution:** Divide numerator and denominator by \\( n^2 \\):\n",
        "   $$ \\lim_{n \\to \\infty} \\frac{1 + \\frac{3}{n}}{1 - \\frac{2}{n}} $$\n",
        "   \n",
        "   As \\( n \\to \\infty \\):\n",
        "   $$ \\frac{1 + 0}{1 - 0} = 1 $$\n",
        "   \n",
        "   **Result:**\n",
        "   $$ \\lim_{n \\to \\infty} \\frac{n^2 + 3n^2}{n^2 - 2n} = 1 $$\n",
        "\n",
        "2. $$ \\lim_{n \\to \\infty} \\frac{(2n + 3)^3}{n^3 - 1} $$\n",
        "   \n",
        "   **Solution:** Expand \\( (2n + 3)^3 \\):\n",
        "   $$ (2n + 3)^3 = 8n^3 + 12n^2 \\cdot 3 + 6n \\cdot 9 + 27 $$\n",
        "   \n",
        "   Divide numerator and denominator by \\( n^3 \\):\n",
        "   $$ \\lim_{n \\to \\infty} \\frac{8 + \\frac{36}{n} + \\frac{54}{n^2} + \\frac{27}{n^3}}{1 - \\frac{1}{n^3}} $$\n",
        "   \n",
        "   As \\( n \\to \\infty \\):\n",
        "   $$ \\frac{8 + 0 + 0 + 0}{1 - 0} = 8 $$\n",
        "   \n",
        "   **Result:**\n",
        "   $$ \\lim_{n \\to \\infty} \\frac{(2n + 3)^3}{n^3 - 1} = 8 $$\n",
        "\n",
        "### Problem : Prove using the Squeeze Theorem\n",
        "\n",
        "1. $$ \\lim_{n \\to \\infty} \\frac{\\sin(n)}{n} $$\n",
        "   \n",
        "   **Solution:** Since \\( \\sin(n) \\) oscillates between -1 and 1:\n",
        "   $$ -\\frac{1}{n} \\leq \\frac{\\sin(n)}{n} \\leq \\frac{1}{n} $$\n",
        "   \n",
        "   Taking the limit as \\( n \\to \\infty \\):\n",
        "   $$ \\lim_{n \\to \\infty} -\\frac{1}{n} = 0 \\quad \\text{and} \\quad \\lim_{n \\to \\infty} \\frac{1}{n} = 0 $$\n",
        "   \n",
        "   By the Squeeze Theorem:\n",
        "   $$ \\lim_{n \\to \\infty} \\frac{\\sin(n)}{n} = 0 $$\n",
        "\n",
        "### Problem : Find the limit of the sequence\n",
        "\n",
        "1. $$ a_n = \\left( 1 + \\frac{1}{n} \\right)^n $$\n",
        "   \n",
        "   **Solution:** This is the definition of the mathematical constant \\( e \\):\n",
        "   $$ \\lim_{n \\to \\infty} \\left( 1 + \\frac{1}{n} \\right)^n = e $$\n",
        "\n",
        "   **Result:**\n",
        "   $$ \\lim_{n \\to \\infty} \\left( 1 + \\frac{1}{n} \\right)^n = e $$\n",
        "\n",
        "---\n",
        "\n",
        "\n"
      ],
      "metadata": {
        "id": "x_MA_C4qoqrT"
      }
    }
  ]
}