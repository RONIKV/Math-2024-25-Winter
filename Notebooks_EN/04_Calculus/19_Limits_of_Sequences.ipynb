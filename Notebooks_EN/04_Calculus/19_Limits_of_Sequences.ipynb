{
  "nbformat": 4,
  "nbformat_minor": 0,
  "metadata": {
    "colab": {
      "provenance": []
    },
    "kernelspec": {
      "name": "python3",
      "display_name": "Python 3"
    },
    "language_info": {
      "name": "python"
    }
  },
  "cells": [
    {
      "cell_type": "markdown",
      "source": [
        "## Limits of Sequences\n",
        "This notebook explores the concept of sequence limits in calculus.\n",
        "\n",
        "### Topics Covered:\n",
        "1. Definition of sequence limits\n",
        "2. Convergent and divergent sequences\n",
        "3. Oscillating sequences\n",
        "4. Examples of sequence limits\n"
      ],
      "metadata": {
        "id": "DrQBmxRjj5r_"
      }
    },
    {
      "cell_type": "code",
      "source": [
        "import sympy as sp\n",
        "\n",
        "\n",
        "n = sp.Symbol('n', integer=True)\n",
        "\n",
        "\n",
        "sequence = 1 / n\n",
        "\n",
        "\n",
        "limit = sp.limit(sequence, n, sp.oo)\n",
        "print(f\"The limit of the sequence a_n = {sequence} as n -> ∞: {limit}\")\n"
      ],
      "metadata": {
        "colab": {
          "base_uri": "https://localhost:8080/"
        },
        "id": "qH1WHabjj7-S",
        "outputId": "fe9c1b02-7838-4631-9c12-1ba44d691ccb"
      },
      "execution_count": 47,
      "outputs": [
        {
          "output_type": "stream",
          "name": "stdout",
          "text": [
            "The limit of the sequence a_n = 1/n as n -> ∞: 0\n"
          ]
        }
      ]
    },
    {
      "cell_type": "code",
      "source": [
        "import sympy as sp\n",
        "\n",
        "\n",
        "n = sp.Symbol('n', integer=True)\n",
        "sequence2 = (-1)**n / n\n",
        "\n",
        "\n",
        "try:\n",
        "    limit2 = sp.limit(sequence2, n, sp.oo)\n",
        "    print(f\"The limit of the sequence b_n = {sequence2} as n -> ∞: {limit2}\")\n",
        "\n",
        "\n",
        "    if limit2 == 0:\n",
        "        print(\"The sequence approaches 0.\")\n",
        "        print(\"However, it oscillates between positive and negative values.\")\n",
        "        print(\"Thus, the sequence is not convergent.\")\n",
        "    else:\n",
        "        print(\"The sequence is divergent.\")\n",
        "except Exception as e:\n",
        "    print(\"Error while calculating the limit:\", e)\n"
      ],
      "metadata": {
        "colab": {
          "base_uri": "https://localhost:8080/"
        },
        "id": "MLXoapUjkRUJ",
        "outputId": "5e9fb59a-2af1-4511-d2bc-906439b8c980"
      },
      "execution_count": 49,
      "outputs": [
        {
          "output_type": "stream",
          "name": "stdout",
          "text": [
            "Error while calculating the limit: Result depends on the sign of I\n"
          ]
        }
      ]
    },
    {
      "cell_type": "code",
      "source": [
        "\n",
        "sequences = [\n",
        "    1 / n,\n",
        "    n / (n + 1),\n",
        "    (-1)**n,\n",
        "    sp.sin(n) / n\n",
        "]\n",
        "\n",
        "\n",
        "for seq in sequences:\n",
        "    lim = sp.limit(seq, n, sp.oo)\n",
        "    print(f\"The limit of the sequence {seq} as n -> ∞: {lim}\")\n"
      ],
      "metadata": {
        "colab": {
          "base_uri": "https://localhost:8080/"
        },
        "id": "eg9ENaHvkXx-",
        "outputId": "ef1aaeb3-99e2-4b87-9a69-aa6389df779c"
      },
      "execution_count": 50,
      "outputs": [
        {
          "output_type": "stream",
          "name": "stdout",
          "text": [
            "The limit of the sequence 1/n as n -> ∞: 0\n",
            "The limit of the sequence n/(n + 1) as n -> ∞: 1\n",
            "The limit of the sequence (-1)**n as n -> ∞: nan\n",
            "The limit of the sequence sin(n)/n as n -> ∞: 0\n"
          ]
        }
      ]
    },
    {
      "cell_type": "markdown",
      "source": [
        "### Summary of Sequence Limits\n",
        "1. A sequence is **convergent** if its terms approach a finite limit as n -> ∞.\n",
        "2. A sequence is **divergent** if it does not approach a finite limit.\n",
        "3. **Oscillating sequences**, such as (-1)^n, do not converge because they alternate indefinitely.\n"
      ],
      "metadata": {
        "id": "U6bLa3-Mkcow"
      }
    }
  ]
}