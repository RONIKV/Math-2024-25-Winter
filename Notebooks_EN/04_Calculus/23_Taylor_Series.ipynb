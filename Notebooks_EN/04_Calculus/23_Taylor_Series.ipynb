{
  "nbformat": 4,
  "nbformat_minor": 0,
  "metadata": {
    "colab": {
      "provenance": []
    },
    "kernelspec": {
      "name": "python3",
      "display_name": "Python 3"
    },
    "language_info": {
      "name": "python"
    }
  },
  "cells": [
    {
      "cell_type": "markdown",
      "source": [
        "\n",
        "## Taylor Series\n",
        "\n",
        "### Problem : Find the Taylor series expansions\n",
        "\n",
        "1. $$ f(x) = \\cos(x) $$ around \\( x = 0 \\) up to the 4th degree:\n",
        "   $$ f(x) \\approx 1 - \\frac{x^2}{2!} + \\frac{x^4}{4!} $$\n",
        "\n",
        "2. $$ h(x) = \\frac{1}{1-x} $$ around \\( x = 0 \\) up to the 4th degree:\n",
        "   $$ h(x) \\approx 1 + x + x^2 + x^3 + x^4 $$\n",
        "\n",
        "3. $$ g(x) = \\sin(x) $$ around \\( x = \\pi \\) up to the 4th degree:\n",
        "   $$ g(x) \\approx \\sin(\\pi) + (x - \\pi) \\cos(\\pi) - \\frac{(x - \\pi)^2}{2!} \\sin(\\pi) - \\frac{(x - \\pi)^3}{3!} \\cos(\\pi) $$\n",
        "\n",
        "---\n",
        "\n",
        "### Problem : Find the tangent line\n",
        "\n",
        "Find the tangent line to:\n",
        "\n",
        "$$ f(x) = e^{\\sin(x)} $$ at \\( x_0 = \\pi \\).\n",
        "\n",
        "Tangent line equation:\n",
        "\n",
        "$$ y = f'(x_0)(x - x_0) + f(x_0) $$\n",
        "\n",
        "where:\n",
        "\n",
        "$$ f'(x) = e^{\\sin(x)} \\cos(x) $$\n",
        "\n",
        "Evaluating at \\( x_0 = \\pi \\):\n",
        "\n",
        "$$ f(\\pi) = e^0 = 1 $$\n",
        "\n",
        "$$ f'(\\pi) = e^0 \\cos(\\pi) = -1 $$\n",
        "\n",
        "Thus, the tangent line is:\n",
        "\n",
        "$$ y = - (x - \\pi) + 1 $$\n",
        "\n",
        "---"
      ],
      "metadata": {
        "id": "mElSLiEelOrM"
      }
    }
  ]
}