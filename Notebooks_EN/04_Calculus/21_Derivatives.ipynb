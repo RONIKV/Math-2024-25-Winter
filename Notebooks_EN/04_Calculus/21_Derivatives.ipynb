{
  "nbformat": 4,
  "nbformat_minor": 0,
  "metadata": {
    "colab": {
      "provenance": []
    },
    "kernelspec": {
      "name": "python3",
      "display_name": "Python 3"
    },
    "language_info": {
      "name": "python"
    }
  },
  "cells": [
    {
      "cell_type": "markdown",
      "source": [
        "## Derivatives in Calculus\n",
        "This notebook introduces the concept of derivatives and demonstrates how to compute them for various functions.\n",
        "\n",
        "### Topics Covered:\n",
        "1. Definition of derivatives\n",
        "2. Basic rules of differentiation\n",
        "3. Higher-order derivatives\n",
        "4. Applications of derivatives (e.g., slope of a curve)\n"
      ],
      "metadata": {
        "id": "AuQV8PEklle6"
      }
    },
    {
      "cell_type": "code",
      "source": [
        "import sympy as sp\n",
        "\n",
        "\n",
        "x = sp.Symbol('x')\n",
        "f = x**2 + 3*x + 5\n",
        "\n",
        "\n",
        "derivative_f = sp.diff(f, x)\n",
        "print(f\"The derivative of f(x) = {f} is: {derivative_f}\")\n"
      ],
      "metadata": {
        "colab": {
          "base_uri": "https://localhost:8080/"
        },
        "id": "FOjTKNqxlnEO",
        "outputId": "7e845563-7e34-4e87-d72c-1e88cba7585c"
      },
      "execution_count": 55,
      "outputs": [
        {
          "output_type": "stream",
          "name": "stdout",
          "text": [
            "The derivative of f(x) = x**2 + 3*x + 5 is: 2*x + 3\n"
          ]
        }
      ]
    },
    {
      "cell_type": "code",
      "source": [
        "\n",
        "g = x**2\n",
        "h = sp.sin(x)\n",
        "product_rule = sp.diff(g * h, x)\n",
        "print(f\"The derivative of g(x) * h(x) = {g} * {h} is: {product_rule}\")\n",
        "\n",
        "quotient_rule = sp.diff(g / h, x)\n",
        "print(f\"The derivative of g(x) / h(x) = {g} / {h} is: {quotient_rule}\")\n"
      ],
      "metadata": {
        "colab": {
          "base_uri": "https://localhost:8080/"
        },
        "id": "U1RxXO8hlpI5",
        "outputId": "6b86b21e-f71f-4e2c-9bae-dd8adeee55c1"
      },
      "execution_count": 56,
      "outputs": [
        {
          "output_type": "stream",
          "name": "stdout",
          "text": [
            "The derivative of g(x) * h(x) = x**2 * sin(x) is: x**2*cos(x) + 2*x*sin(x)\n",
            "The derivative of g(x) / h(x) = x**2 / sin(x) is: -x**2*cos(x)/sin(x)**2 + 2*x/sin(x)\n"
          ]
        }
      ]
    },
    {
      "cell_type": "code",
      "source": [
        "\n",
        "second_derivative = sp.diff(f, x, 2)\n",
        "print(f\"The second derivative of f(x) = {f} is: {second_derivative}\")\n",
        "\n",
        "third_derivative = sp.diff(f, x, 3)\n",
        "print(f\"The third derivative of f(x) = {f} is: {third_derivative}\")\n"
      ],
      "metadata": {
        "colab": {
          "base_uri": "https://localhost:8080/"
        },
        "id": "ZoxXR3zHlr1V",
        "outputId": "e81717eb-ded8-41f9-cc95-47b7d1505ace"
      },
      "execution_count": 57,
      "outputs": [
        {
          "output_type": "stream",
          "name": "stdout",
          "text": [
            "The second derivative of f(x) = x**2 + 3*x + 5 is: 2\n",
            "The third derivative of f(x) = x**2 + 3*x + 5 is: 0\n"
          ]
        }
      ]
    },
    {
      "cell_type": "code",
      "source": [
        "\n",
        "curve = x**3 - 6*x**2 + 9*x\n",
        "\n",
        "point = 2\n",
        "slope = sp.diff(curve, x).subs(x, point)\n",
        "print(f\"The slope of the curve f(x) = {curve} at x = {point} is: {slope}\")\n"
      ],
      "metadata": {
        "id": "hKrDek1NlusP",
        "outputId": "1ff7a33b-cf6f-4e4b-8edc-23c51a6ee58e",
        "colab": {
          "base_uri": "https://localhost:8080/"
        }
      },
      "execution_count": 58,
      "outputs": [
        {
          "output_type": "stream",
          "name": "stdout",
          "text": [
            "The slope of the curve f(x) = x**3 - 6*x**2 + 9*x at x = 2 is: -3\n"
          ]
        }
      ]
    },
    {
      "cell_type": "markdown",
      "source": [
        "### Summary of Derivatives\n",
        "1. **Definition**:\n",
        "   - The derivative represents the rate of change of a function.\n",
        "2. **Basic Rules**:\n",
        "   - Power Rule, Product Rule, Quotient Rule, Chain Rule.\n",
        "3. **Applications**:\n",
        "   - Slope of a curve, optimization problems, and motion analysis.\n",
        "4. **Higher-order Derivatives**:\n",
        "   - Useful for analyzing concavity and inflection points.\n"
      ],
      "metadata": {
        "id": "A9lNiMV-lxW9"
      }
    }
  ]
}