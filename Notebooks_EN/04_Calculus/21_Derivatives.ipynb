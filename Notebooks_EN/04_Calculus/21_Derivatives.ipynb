{
  "nbformat": 4,
  "nbformat_minor": 0,
  "metadata": {
    "colab": {
      "provenance": []
    },
    "kernelspec": {
      "name": "python3",
      "display_name": "Python 3"
    },
    "language_info": {
      "name": "python"
    }
  },
  "cells": [
    {
      "cell_type": "markdown",
      "source": [
        "## Derivatives\n",
        "\n",
        "### Problem 21: Compute derivatives of functions\n",
        "\n",
        "1. $$ y(x) = -3x + 3 \\quad \\Rightarrow \\quad y'(x) = -3 $$\n",
        "2. $$ y(x) = \\pi x + \\sin(1) \\quad \\Rightarrow \\quad y'(x) = \\pi $$\n",
        "3. $$ y(x) = 4 + \\sin(2) \\quad \\Rightarrow \\quad y'(x) = 0 $$\n",
        "4. $$ y(x) = 2x^3 - 3x^2 + 8x - 9 \\quad \\Rightarrow \\quad y'(x) = 6x^2 - 6x + 8 $$\n",
        "5. $$ y(x) = 6x^{1/3} \\quad \\Rightarrow \\quad y'(x) = 2x^{-2/3} $$\n",
        "6. $$ y(x) = x \\quad \\Rightarrow \\quad y'(x) = 1 $$\n",
        "7. $$ y(x) = \\cos(x) + \\sin(x) \\quad \\Rightarrow \\quad y'(x) = -\\sin(x) + \\cos(x) $$\n",
        "8. $$ y(x) = 2\\sin(x)\\cos(x) \\quad \\Rightarrow \\quad y'(x) = 2\\cos^2(x) - 2\\sin^2(x) $$\n",
        "9. $$ y(x) = x\\sin(x) \\quad \\Rightarrow \\quad y'(x) = x\\cos(x) + \\sin(x) $$\n",
        "10. $$ y(x) = (x+1)(x+1) \\quad \\Rightarrow \\quad y'(x) = 2(x+1) $$\n",
        "11. $$ y(x) = \\frac{x}{x+1} \\quad \\Rightarrow \\quad y'(x) = \\frac{1}{(x+1)^2} $$\n",
        "12. $$ y(x) = (x+1)e^x \\quad \\Rightarrow \\quad y'(x) = e^x(x+1) + e^x $$\n",
        "13. $$ y(x) = \\sin(x^2) \\quad \\Rightarrow \\quad y'(x) = 2x\\cos(x^2) $$\n",
        "14. $$ y(x) = e^{-2x} \\quad \\Rightarrow \\quad y'(x) = -2e^{-2x} $$\n",
        "15. $$ y(x) = \\frac{1}{\\sin(x+1)} \\quad \\Rightarrow \\quad y'(x) = -\\frac{\\cos(x+1)}{\\sin^2(x+1)} $$\n",
        "16. $$ y(x) = 2x+1 \\quad \\Rightarrow \\quad y'(x) = 2 $$\n",
        "\n",
        "### Problem 22: Prove\n",
        "\n",
        "1. $$ \\frac{d}{dx} (\\ln(\\sin x)) = \\cot x $$\n",
        "   \n",
        "   **Solution:** Using the chain rule:\n",
        "   $$ \\frac{d}{dx} \\ln(\\sin x) = \\frac{1}{\\sin x} \\cdot \\cos x = \\cot x $$\n",
        "\n",
        "2. For \\( f(x) = \\cos x \\), verify that \\( f''(x) = -f(x) \\).\n",
        "   \n",
        "   **Solution:**\n",
        "   $$ f'(x) = -\\sin x $$\n",
        "   $$ f''(x) = -\\cos x = -f(x) $$\n",
        "\n",
        "### Problem 23: Using L'Hôpital's Rule, find limits\n",
        "\n",
        "1. $$ \\lim_{x \\to 0} \\frac{\\sin x}{x} = 1 $$\n",
        "2. $$ \\lim_{x \\to \\infty} \\frac{\\ln x}{x} = 0 $$\n",
        "3. $$ \\lim_{x \\to \\infty} \\frac{e^x}{x} = \\infty $$\n",
        "\n",
        "### Problem 24: Find velocity and acceleration\n",
        "\n",
        "The position function is given as:\n",
        "\n",
        "$$ x(t) = 3t^2 - 6t + 1 $$\n",
        "\n",
        "Velocity:\n",
        "\n",
        "$$ V(t) = \\frac{dx}{dt} = 6t - 6 $$\n",
        "\n",
        "Acceleration:\n",
        "\n",
        "$$ a(t) = \\frac{dV}{dt} = \\frac{d^2x}{dt^2} = 6 $$\n",
        "\n",
        "At \\( t = 2 \\):\n",
        "\n",
        "$$ V(2) = 6(2) - 6 = 6 $$\n",
        "$$ a(2) = 6 $$\n",
        "\n",
        "Thus, at \\( t = 2 \\), the velocity is **6** and the acceleration is **6**.\n",
        "\n",
        "---\n",
        "\n"
      ],
      "metadata": {
        "id": "nsS4bFiUmk8U"
      }
    }
  ]
}