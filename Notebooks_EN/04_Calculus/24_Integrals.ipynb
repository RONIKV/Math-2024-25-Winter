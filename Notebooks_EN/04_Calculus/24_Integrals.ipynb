{
  "nbformat": 4,
  "nbformat_minor": 0,
  "metadata": {
    "colab": {
      "provenance": []
    },
    "kernelspec": {
      "name": "python3",
      "display_name": "Python 3"
    },
    "language_info": {
      "name": "python"
    }
  },
  "cells": [
    {
      "cell_type": "markdown",
      "source": [
        "## Integrals in Calculus\n",
        "This notebook explores the concept of integration, including both definite and indefinite integrals.\n",
        "\n",
        "### Topics Covered:\n",
        "1. Indefinite integrals (antiderivatives)\n",
        "2. Definite integrals\n",
        "3. Applications of integrals (e.g., area under a curve)\n"
      ],
      "metadata": {
        "id": "zbXZ7Bv-n8Ww"
      }
    },
    {
      "cell_type": "code",
      "source": [
        "import sympy as sp\n",
        "\n",
        "\n",
        "x = sp.Symbol('x')\n",
        "f = x**2 + 3*x + 5\n",
        "\n",
        "\n",
        "indefinite_integral = sp.integrate(f, x)\n",
        "print(f\"The indefinite integral of f(x) = {f} is:\")\n",
        "print(f\"∫f(x) dx = {indefinite_integral} + C\")\n"
      ],
      "metadata": {
        "colab": {
          "base_uri": "https://localhost:8080/"
        },
        "id": "0A3Z_B0Cn-Ep",
        "outputId": "bbe0cf7b-ae50-4891-b80b-4ade75afef02"
      },
      "execution_count": 70,
      "outputs": [
        {
          "output_type": "stream",
          "name": "stdout",
          "text": [
            "The indefinite integral of f(x) = x**2 + 3*x + 5 is:\n",
            "∫f(x) dx = x**3/3 + 3*x**2/2 + 5*x + C\n"
          ]
        }
      ]
    },
    {
      "cell_type": "code",
      "source": [
        "\n",
        "definite_integral = sp.integrate(f, (x, 1, 3))\n",
        "print(f\"The definite integral of f(x) = {f} from 1 to 3 is:\")\n",
        "print(f\"∫f(x) dx [1, 3] = {definite_integral}\")\n"
      ],
      "metadata": {
        "colab": {
          "base_uri": "https://localhost:8080/"
        },
        "id": "92Kmzd-0oCar",
        "outputId": "4e82569e-9cbd-4e58-dcbc-9b694de720ec"
      },
      "execution_count": 71,
      "outputs": [
        {
          "output_type": "stream",
          "name": "stdout",
          "text": [
            "The definite integral of f(x) = x**2 + 3*x + 5 from 1 to 3 is:\n",
            "∫f(x) dx [1, 3] = 92/3\n"
          ]
        }
      ]
    },
    {
      "cell_type": "code",
      "source": [
        "\n",
        "curve = x**2\n",
        "\n",
        "\n",
        "area_under_curve = sp.integrate(curve, (x, 0, 2))\n",
        "print(f\"The area under the curve f(x) = {curve} from x = 0 to x = 2 is:\")\n",
        "print(f\"Area = {area_under_curve}\")\n"
      ],
      "metadata": {
        "colab": {
          "base_uri": "https://localhost:8080/"
        },
        "id": "ICnYTitaoEry",
        "outputId": "5d2c8cef-723b-477f-bd99-46cd5f139b93"
      },
      "execution_count": 72,
      "outputs": [
        {
          "output_type": "stream",
          "name": "stdout",
          "text": [
            "The area under the curve f(x) = x**2 from x = 0 to x = 2 is:\n",
            "Area = 8/3\n"
          ]
        }
      ]
    },
    {
      "cell_type": "code",
      "source": [
        "\n",
        "solid_volume = sp.pi * sp.integrate(curve**2, (x, 0, 1))\n",
        "print(f\"The volume of the solid obtained by rotating f(x) = {curve}^2 around the x-axis from x = 0 to x = 1 is:\")\n",
        "print(f\"Volume = {solid_volume}\")\n"
      ],
      "metadata": {
        "colab": {
          "base_uri": "https://localhost:8080/"
        },
        "id": "FMkX9YdNoG9f",
        "outputId": "1129b4e5-eede-4065-fb5c-19c443913f35"
      },
      "execution_count": 73,
      "outputs": [
        {
          "output_type": "stream",
          "name": "stdout",
          "text": [
            "The volume of the solid obtained by rotating f(x) = x**2^2 around the x-axis from x = 0 to x = 1 is:\n",
            "Volume = pi/5\n"
          ]
        }
      ]
    },
    {
      "cell_type": "markdown",
      "source": [
        "### Summary of Integrals\n",
        "1. **Indefinite Integrals**:\n",
        "   - Represent the family of antiderivatives of a function.\n",
        "2. **Definite Integrals**:\n",
        "   - Compute the accumulated value of a function over a specific interval.\n",
        "3. **Applications**:\n",
        "   - Finding areas, volumes, and solving real-world problems like accumulation and rates of change.\n"
      ],
      "metadata": {
        "id": "zJkjsROToJQ8"
      }
    }
  ]
}