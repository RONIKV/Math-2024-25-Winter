{
  "nbformat": 4,
  "nbformat_minor": 0,
  "metadata": {
    "colab": {
      "provenance": []
    },
    "kernelspec": {
      "name": "python3",
      "display_name": "Python 3"
    },
    "language_info": {
      "name": "python"
    }
  },
  "cells": [
    {
      "cell_type": "markdown",
      "source": [
        "\n",
        "## Functions\n",
        "\n",
        "### Problem : Draw and analyze functions\n",
        "\n",
        "#### 1. Draw the following functions in a single Geogebra notebook:\n",
        "\n",
        "1. $$ f(x) = x^2 $$\n",
        "2. $$ g(x) = x $$\n",
        "3. $$ h(x) = \\frac{1}{x} $$\n",
        "4. $$ j(x) = \\sin(x) $$\n",
        "\n",
        "Evaluate all functions at \\( x = 2 \\):\n",
        "- $$ f(2) = 2^2 = 4 $$\n",
        "-  $$g(2) = 2 $$\n",
        "-  $$ h(2) = \\frac{1}{2} = 0.5 $$\n",
        "- $$j(2) = \\sin(2) \\approx 0.909 $$\n",
        "\n",
        "#### 2. Given $$f(x) = 3x - 1 $$ and $$g(x) = x $$ , find:\n",
        "\n",
        "- $$ f(g(x)) = f(x) = 3x - 1 $$\n",
        "- $$ g(f(x)) = g(3x - 1) = 3x - 1 $$\n",
        "- $$ f(f(x)) = f(3x - 1) = 3(3x - 1) - 1 = 9x - 4 $$\n",
        "- $$ g(g(x)) = g(x) = x $$\n",
        "\n",
        "\n",
        "\n",
        "#### 3. Let $$ f(x) = e^x $$ and $$ g(x) = \\ln(x)$$ :\n",
        "\n",
        "-  $$ f(g(x)) = f(\\ln(x)) = e^{\\ln(x)} = x $$\n",
        "- $$ g(f(x)) = g(e^x) = \\ln(e^x) = x $$\n",
        "\n",
        "**Observation:** \\( f(g(x)) = x \\) and \\( g(f(x)) = x \\). This confirms that \\( f \\) and \\( g \\) are inverse functions.\n",
        "\n",
        "#### 4. Given function \\( f = \\{ (1, 7), (2, 9), (3, 11) \\} \\):\n",
        "\n",
        "The inverse function is:\n",
        "\n",
        "$$ f^{-1} = \\{ (7, 1), (9, 2), (11, 3) \\} $$\n",
        "\n",
        "#### 5. Given function \\($$ f = \\{ (1, 7), (2, 7), (3, 11) \\} $$\\):\n",
        "\n",
        "The inverse function does not exist because \\( f \\) is not one-to-one (\\( f(1) = 7 \\) and \\( f(2) = 7 \\)).\n",
        "\n",
        "#### 6. Given function $$ f(x) = x - 1 $$:\n",
        "\n",
        "The inverse function is:\n",
        "\n",
        "$$ f^{-1}(x) = x + 1 $$\n",
        "\n"
      ],
      "metadata": {
        "id": "Y_BkOs28pf_x"
      }
    }
  ]
}