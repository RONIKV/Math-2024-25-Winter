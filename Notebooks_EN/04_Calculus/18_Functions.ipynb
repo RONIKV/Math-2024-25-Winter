{
  "nbformat": 4,
  "nbformat_minor": 0,
  "metadata": {
    "colab": {
      "provenance": []
    },
    "kernelspec": {
      "name": "python3",
      "display_name": "Python 3"
    },
    "language_info": {
      "name": "python"
    }
  },
  "cells": [
    {
      "cell_type": "markdown",
      "source": [
        "## Functions in Calculus\n",
        "This notebook introduces the concept of functions and their properties in calculus.\n",
        "\n",
        "### Topics Covered:\n",
        "1. Domain and range of functions\n",
        "2. Types of functions (linear, quadratic, exponential, etc.)\n",
        "3. Composite functions\n",
        "4. Inverse functions\n"
      ],
      "metadata": {
        "id": "Jsn0y6MOiiGC"
      }
    },
    {
      "cell_type": "code",
      "source": [
        "import sympy as sp\n",
        "\n",
        "\n",
        "x = sp.Symbol('x')\n",
        "f = x**2 - 4\n",
        "\n",
        "domain = sp.S.Reals\n",
        "print(f\"Domain of the function f(x) = {f}: {domain}\")\n",
        "\n",
        "\n",
        "range_of_f = sp.calculus.util.continuous_domain(f, x, domain)\n",
        "print(f\"Range of the function f(x) = {f}: {range_of_f}\")\n"
      ],
      "metadata": {
        "colab": {
          "base_uri": "https://localhost:8080/"
        },
        "id": "DVlwaJuGiiuz",
        "outputId": "b0d12348-4a57-4b47-8fa0-d2e5bfbb8f24"
      },
      "execution_count": 31,
      "outputs": [
        {
          "output_type": "stream",
          "name": "stdout",
          "text": [
            "Domain of the function f(x) = x**2 - 4: Reals\n",
            "Range of the function f(x) = x**2 - 4: Reals\n"
          ]
        }
      ]
    },
    {
      "cell_type": "code",
      "source": [
        "\n",
        "inverse_f = sp.solve(f - y, x)\n",
        "print(f\"Inverse of the function f(x) = {f}: {inverse_f}\")\n"
      ],
      "metadata": {
        "id": "d0qCRWo2imfH",
        "outputId": "982ba1df-e0f7-403c-bb06-7378c8c7b7cf",
        "colab": {
          "base_uri": "https://localhost:8080/"
        }
      },
      "execution_count": 32,
      "outputs": [
        {
          "output_type": "stream",
          "name": "stdout",
          "text": [
            "Inverse of the function f(x) = x**2 - 4: [-sqrt(6), sqrt(6)]\n"
          ]
        }
      ]
    },
    {
      "cell_type": "code",
      "source": [
        "\n",
        "g = 2*x + 3\n",
        "composite = sp.simplify(f.subs(x, g))\n",
        "print(f\"Composite function (f(g(x))): {composite}\")\n"
      ],
      "metadata": {
        "id": "jVT57sAxio0u",
        "outputId": "9c660e5c-495a-4b7f-ad5f-a9a4fd166151",
        "colab": {
          "base_uri": "https://localhost:8080/"
        }
      },
      "execution_count": 33,
      "outputs": [
        {
          "output_type": "stream",
          "name": "stdout",
          "text": [
            "Composite function (f(g(x))): (2*x + 3)**2 - 4\n"
          ]
        }
      ]
    }
  ]
}