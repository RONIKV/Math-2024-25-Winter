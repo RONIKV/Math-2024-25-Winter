{
  "nbformat": 4,
  "nbformat_minor": 0,
  "metadata": {
    "colab": {
      "provenance": []
    },
    "kernelspec": {
      "name": "python3",
      "display_name": "Python 3"
    },
    "language_info": {
      "name": "python"
    }
  },
  "cells": [
    {
      "cell_type": "markdown",
      "source": [
        "## Solving Systems of Linear Equations Using Gaussian Elimination\n",
        "In this notebook, we will solve systems of linear equations using the Gaussian Elimination method.\n",
        "\n",
        "### Example System:\n",
        "\n"
      ],
      "metadata": {
        "id": "gHl4S8RFGLq1"
      }
    },
    {
      "cell_type": "code",
      "source": [
        "def gauss_elimination(a, b):\n",
        "\n",
        "    a = a.astype(float)\n",
        "    b = b.astype(float)\n",
        "\n",
        "    n = len(b)\n",
        "    for i in range(n):\n",
        "\n",
        "        max_row = i + np.argmax(abs(a[i:, i]))\n",
        "        if i != max_row:\n",
        "            a[[i, max_row]] = a[[max_row, i]]\n",
        "            b[[i, max_row]] = b[[max_row, i]]\n",
        "\n",
        "\n",
        "        for j in range(i + 1, n):\n",
        "            factor = a[j, i] / a[i, i]\n",
        "            a[j, i:] -= factor * a[i, i:]\n",
        "            b[j] -= factor * b[i]\n",
        "\n",
        "\n",
        "    x = np.zeros(n)\n",
        "    for i in range(n - 1, -1, -1):\n",
        "        x[i] = (b[i] - np.dot(a[i, i + 1:], x[i + 1:])) / a[i, i]\n",
        "    return x\n",
        "\n",
        "coefficients = np.array([[1, 1, 1], [2, 3, 1], [0, 1, -1]])\n",
        "constants = np.array([6, 14, 0])\n",
        "\n",
        "\n",
        "solution = gauss_elimination(coefficients.copy(), constants.copy())\n",
        "print(\"Solutions:\")\n",
        "print(f\"x = {solution[0]}, y = {solution[1]}, z = {solution[2]}\")\n"
      ],
      "metadata": {
        "colab": {
          "base_uri": "https://localhost:8080/"
        },
        "id": "G9gk6gE6e51R",
        "outputId": "3d2d3851-b956-403c-9ffc-38ba73de227e"
      },
      "execution_count": 19,
      "outputs": [
        {
          "output_type": "stream",
          "name": "stdout",
          "text": [
            "Solutions:\n",
            "x = inf, y = -inf, z = -inf\n"
          ]
        },
        {
          "output_type": "stream",
          "name": "stderr",
          "text": [
            "<ipython-input-19-aa956717c8ad>:23: RuntimeWarning: divide by zero encountered in scalar divide\n",
            "  x[i] = (b[i] - np.dot(a[i, i + 1:], x[i + 1:])) / a[i, i]\n"
          ]
        }
      ]
    }
  ]
}