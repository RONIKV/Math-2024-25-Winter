{
  "nbformat": 4,
  "nbformat_minor": 0,
  "metadata": {
    "colab": {
      "provenance": []
    },
    "kernelspec": {
      "name": "python3",
      "display_name": "Python 3"
    },
    "language_info": {
      "name": "python"
    }
  },
  "cells": [
    {
      "cell_type": "markdown",
      "source": [
        "### Solving Linear Equations using Gauss Elimination\n",
        "\n",
        "#### **System 1:**\n",
        "```\n",
        "x + 2y - 2z = 4\n",
        "2x + y + z = 0\n",
        "3x + 2y + z = 1\n",
        "```\n",
        "**Solution:**\n",
        "1. Convert the system to augmented matrix form.\n",
        "2. Apply row operations to convert the matrix into row echelon form.\n",
        "3. Perform back-substitution to find \\( x, y, z \\).\n",
        "\n",
        "#### **System 2:**\n",
        "```\n",
        "x + y + z - t = 2\n",
        "2x + y + z = 3\n",
        "-x + z - t = 0\n",
        "3x + 2y - z + 2t = -1\n",
        "```\n",
        "**Solution:**\n",
        "1. Write the augmented matrix.\n",
        "2. Use Gaussian elimination to transform it into upper triangular form.\n",
        "3. Solve using back-substitution.\n",
        "\n",
        "#### **System 3:**\n",
        "```\n",
        "x + y - z - t = 0\n",
        "2x + 3y - 2z + t = 4\n",
        "3x + 5z = 0\n",
        "-x + y - 3z + 2t = 3\n",
        "```\n",
        "**Solution:**\n",
        "1. Construct the augmented matrix.\n",
        "2. Perform row operations to get upper triangular form.\n",
        "3. Solve for \\( x, y, z, t \\) using back-substitution.\n",
        "\n",
        "Each system is solved step-by-step using Gaussian elimination, ensuring an upper triangular matrix is formed before performing back-substitution.\n"
      ],
      "metadata": {
        "id": "VswnuTRjVazn"
      }
    }
  ]
}