{
  "nbformat": 4,
  "nbformat_minor": 0,
  "metadata": {
    "colab": {
      "provenance": []
    },
    "kernelspec": {
      "name": "python3",
      "display_name": "Python 3"
    },
    "language_info": {
      "name": "python"
    }
  },
  "cells": [
    {
      "cell_type": "markdown",
      "source": [
        "\n",
        "## Solving Systems of Linear Equations Using Cramer's Rule\n",
        "In this notebook, we will solve systems of linear equations using Cramer's Rule.\n",
        "\n",
        "### What is Cramer's Rule?\n",
        "Cramer's Rule is a mathematical theorem used to solve systems of linear equations with as many equations as unknowns, provided the determinant of the coefficient matrix is non-zero.\n",
        "\n",
        "We will solve the following system:\n"
      ],
      "metadata": {
        "id": "gHl4S8RFGLq1"
      }
    },
    {
      "cell_type": "code",
      "source": [
        "import numpy as np\n",
        "\n",
        "\n",
        "coefficients = np.array([[1, 1, 1], [2, 3, 1], [0, 1, -1]])\n",
        "constants = np.array([6, 14, 0])\n",
        "\n",
        "\n",
        "det_main = np.linalg.det(coefficients)\n",
        "print(f\"Main Determinant: {det_main}\")\n",
        "\n",
        "if det_main != 0:\n",
        "\n",
        "    det_x = np.linalg.det(np.column_stack((constants, coefficients[:, 1], coefficients[:, 2])))\n",
        "    det_y = np.linalg.det(np.column_stack((coefficients[:, 0], constants, coefficients[:, 2])))\n",
        "    det_z = np.linalg.det(np.column_stack((coefficients[:, 0], coefficients[:, 1], constants)))\n",
        "\n",
        "\n",
        "    x = det_x / det_main\n",
        "    y = det_y / det_main\n",
        "    z = det_z / det_main\n",
        "\n",
        "    print(f\"Solutions: x = {x}, y = {y}, z = {z}\")\n",
        "else:\n",
        "    print(\"The system has no unique solution.\")\n"
      ],
      "metadata": {
        "colab": {
          "base_uri": "https://localhost:8080/"
        },
        "id": "4AE-unSRJJqs",
        "outputId": "d432ccea-200c-4610-f486-009a9cf3226c"
      },
      "execution_count": 6,
      "outputs": [
        {
          "output_type": "stream",
          "name": "stdout",
          "text": [
            "Main Determinant: 0.0\n",
            "The system has no unique solution.\n"
          ]
        }
      ]
    },
    {
      "cell_type": "markdown",
      "source": [
        "### Explanation of Steps\n",
        "1. Define the coefficient matrix and the constants vector.\n",
        "2. Compute the determinant of the coefficient matrix.\n",
        "3. Replace each column of the coefficient matrix with the constants vector to compute individual determinants for `x`, `y`, and `z`.\n",
        "4. Use the formula `variable = determinant / main determinant` to find the solutions.\n"
      ],
      "metadata": {
        "id": "XegNfudiKkbe"
      }
    }
  ]
}