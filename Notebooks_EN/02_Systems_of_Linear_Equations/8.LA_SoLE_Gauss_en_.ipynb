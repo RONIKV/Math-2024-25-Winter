{
  "nbformat": 4,
  "nbformat_minor": 0,
  "metadata": {
    "colab": {
      "provenance": []
    },
    "kernelspec": {
      "name": "python3",
      "display_name": "Python 3"
    },
    "language_info": {
      "name": "python"
    }
  },
  "cells": [
    {
      "cell_type": "markdown",
      "source": [
        "### Solving Linear Equations using Cramer's Rule\n",
        "\n",
        "#### **System 1:**\n",
        "```\n",
        "2x₁ - 3x₂ = 7\n",
        "3x₁ + 5x₂ = 2\n",
        "```\n",
        "**Solution:**\n",
        "1. Compute determinant of coefficient matrix:\n",
        "```\n",
        "| 2  -3 |\n",
        "| 3   5 |\n",
        "Det(A) = (2×5) - (-3×3) = 10 + 9 = 19\n",
        "```\n",
        "2. Compute determinants for x₁ and x₂:\n",
        "```\n",
        "Det(A₁) = | 7  -3 |\n",
        "          | 2   5 |  = (7×5) - (-3×2) = 35 + 6 = 41\n",
        "\n",
        "Det(A₂) = | 2   7 |\n",
        "          | 3   2 |  = (2×2) - (7×3) = 4 - 21 = -17\n",
        "```\n",
        "3. Compute solutions:\n",
        "```\n",
        "x₁ = Det(A₁) / Det(A) = 41 / 19\n",
        "x₂ = Det(A₂) / Det(A) = -17 / 19\n",
        "```\n",
        "\n",
        "#### **System 2:**\n",
        "```\n",
        "2x + y - z = 1\n",
        "x - y + 2z = 4\n",
        "3x - 2z = -1\n",
        "```\n",
        "**Solution:**\n",
        "1. Compute determinant of coefficient matrix.\n",
        "2. Compute determinants for x, y, and z by replacing corresponding columns.\n",
        "3. Solve using Cramer's Rule.\n",
        "\n",
        "#### **System 3:**\n",
        "```\n",
        "x + y + z - t = 2\n",
        "x - z + 2t = 6\n",
        "2x - 3y + t = 4\n",
        "3x + y + 3z - 4t = -2\n",
        "```\n",
        "**Solution:**\n",
        "1. Compute determinant of coefficient matrix.\n",
        "2. Compute determinants for x, y, z, and t.\n",
        "3. Solve using Cramer's Rule.\n",
        "\n",
        "#### **Why Can't the Last System Be Solved Using Cramer's Rule?**\n",
        "```\n",
        "x₁ + 2x₂ + 3x₃ = 3\n",
        "4x₁ + 5x₂ + 6x₃ = 2\n",
        "7x₁ + 8x₂ + 9x₃ = 1\n",
        "```\n",
        "**Reason:**\n",
        "1. Compute determinant of coefficient matrix:\n",
        "```\n",
        "| 1  2  3 |\n",
        "| 4  5  6 |\n",
        "| 7  8  9 |\n",
        "```\n",
        "2. Det(A) = 0 (since the rows are linearly dependent).\n",
        "3. Since determinant is zero, the matrix is singular, and Cramer's Rule does not apply.\n"
      ],
      "metadata": {
        "id": "0BF3oVRlUy_1"
      }
    }
  ]
}
