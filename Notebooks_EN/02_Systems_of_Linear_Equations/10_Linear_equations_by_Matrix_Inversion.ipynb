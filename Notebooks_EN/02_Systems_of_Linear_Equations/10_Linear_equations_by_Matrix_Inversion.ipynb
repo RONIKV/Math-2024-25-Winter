{
  "nbformat": 4,
  "nbformat_minor": 0,
  "metadata": {
    "colab": {
      "provenance": []
    },
    "kernelspec": {
      "name": "python3",
      "display_name": "Python 3"
    },
    "language_info": {
      "name": "python"
    }
  },
  "cells": [
    {
      "cell_type": "markdown",
      "source": [
        "### Solving Linear Equations using the Inverse Matrix Method\n",
        "\n",
        "#### **System 1:**\n",
        "```\n",
        "x + 2y + 3z = 5\n",
        "   2y + 3z = 4\n",
        "      3z = 3\n",
        "```\n",
        "**Solution:**\n",
        "1. Convert the system into matrix form: \\( AX = B \\)\n",
        "```\n",
        "A = | 1  2  3 |\n",
        "    | 0  2  3 |\n",
        "    | 0  0  3 |\n",
        "\n",
        "X = | x |\n",
        "    | y |\n",
        "    | z |\n",
        "\n",
        "B = | 5 |\n",
        "    | 4 |\n",
        "    | 3 |\n",
        "```\n",
        "2. Compute \\( A^{-1} \\) (inverse of A).\n",
        "3. Multiply \\( A^{-1} \\) by \\( B \\) to find \\( X \\).\n",
        "4. Solution: \\( x = 1, y = 1, z = 1 \\).\n",
        "\n",
        "#### **System 2:**\n",
        "```\n",
        "x₁ + 2x₂ + 3x₃ = 41\n",
        "4x₁ + 5x₂ + 6x₃ = 93\n",
        "7x₁ + 8x₂ + 9x₃ = 145\n",
        "```\n",
        "**Solution:**\n",
        "1. Convert the system into matrix form: \\( AX = B \\)\n",
        "```\n",
        "A = | 1  2  3 |\n",
        "    | 4  5  6 |\n",
        "    | 7  8  9 |\n",
        "\n",
        "X = | x₁ |\n",
        "    | x₂ |\n",
        "    | x₃ |\n",
        "\n",
        "B = | 41 |\n",
        "    | 93 |\n",
        "    | 145 |\n",
        "```\n",
        "2. Compute \\( A^{-1} \\) (inverse of A).\n",
        "3. Multiply \\( A^{-1} \\) by \\( B \\) to find \\( X \\).\n",
        "4. Solution: \\( x₁ = 2, x₂ = 3, x₃ = 4 \\).\n"
      ],
      "metadata": {
        "id": "JfBlCxToW6iB"
      }
    }
  ]
}