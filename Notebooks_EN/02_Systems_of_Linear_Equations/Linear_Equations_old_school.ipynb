{
  "nbformat": 4,
  "nbformat_minor": 0,
  "metadata": {
    "colab": {
      "provenance": []
    },
    "kernelspec": {
      "name": "python3",
      "display_name": "Python 3"
    },
    "language_info": {
      "name": "python"
    }
  },
  "cells": [
    {
      "cell_type": "markdown",
      "source": [
        "### Solving Linear Equations Without Matrices\n",
        "\n",
        "#### **System 1:**\n",
        "```\n",
        "3x - 2y = 5\n",
        "2x + 3y = 7\n",
        "```\n",
        "**Solution:**\n",
        "1. Multiply the first equation by 3 and the second by 2 to align coefficients of y:\n",
        "```\n",
        "9x - 6y = 15\n",
        "4x + 6y = 14\n",
        "```\n",
        "2. Add both equations:\n",
        "```\n",
        "13x = 29 → x = 29/13\n",
        "```\n",
        "3. Substitute \\( x \\) into one equation to find \\( y \\).\n",
        "\n",
        "#### **System 2:**\n",
        "```\n",
        "2x - 3y = 10\n",
        "4x + 5y = 20\n",
        "```\n",
        "**Solution:**\n",
        "1. Multiply the first equation by 2:\n",
        "```\n",
        "4x - 6y = 20\n",
        "4x + 5y = 20\n",
        "```\n",
        "2. Subtract the second equation from the first:\n",
        "```\n",
        "-11y = 0 → y = 0\n",
        "```\n",
        "3. Substitute \\( y = 0 \\) into one equation to find \\( x \\).\n",
        "\n",
        "#### **System 3:**\n",
        "```\n",
        "2x - y + z = 3\n",
        "x + 2y - z = 1\n",
        "3x - y + 2z = 11\n",
        "```\n",
        "**Solution:**\n",
        "1. Express z in terms of x, y from one equation.\n",
        "2. Substitute into the remaining two equations to solve for x and y.\n",
        "3. Find z.\n",
        "\n",
        "#### **System 4:**\n",
        "```\n",
        "2x - 3y + 4z + 2t = 2\n",
        "3x + 2y - 5z + 3t = 3\n",
        "4x - 3y + 2z - 5t = 4\n",
        "5x + 4y - 3z + 2t = 5\n",
        "```\n",
        "**Solution:**\n",
        "1. Solve step-by-step using elimination or substitution.\n",
        "2. Reduce the system to two variables and solve for x, y, z, and t.\n"
      ],
      "metadata": {
        "id": "UjxBcIzrUQyB"
      }
    }
  ]
}