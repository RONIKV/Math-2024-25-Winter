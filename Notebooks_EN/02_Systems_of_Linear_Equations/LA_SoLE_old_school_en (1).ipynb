{
  "nbformat": 4,
  "nbformat_minor": 0,
  "metadata": {
    "colab": {
      "provenance": []
    },
    "kernelspec": {
      "name": "python3",
      "display_name": "Python 3"
    },
    "language_info": {
      "name": "python"
    }
  },
  "cells": [
    {
      "cell_type": "markdown",
      "source": [
        "## Solving Systems of Linear Equations (Old School Method)\n",
        "In this notebook, we will solve systems of linear equations using substitution and elimination methods. These are manual techniques used to solve smaller systems of equations.\n",
        "\n",
        "We will solve the following example system:\n",
        "\n",
        "\n"
      ],
      "metadata": {
        "id": "gHl4S8RFGLq1"
      }
    },
    {
      "cell_type": "code",
      "source": [
        "import sympy as sp\n",
        "\n",
        "\n",
        "x, y = sp.symbols('x y')\n",
        "\n",
        "\n",
        "eq1 = sp.Eq(2*x + 3*y, 13)\n",
        "eq2 = sp.Eq(5*x - 4*y, -2)\n",
        "\n",
        "\n",
        "solution = sp.solve((eq1, eq2), (x, y))\n",
        "print(\"Solutions:\")\n",
        "print(f\"x = {solution[x]}, y = {solution[y]}\")\n"
      ],
      "metadata": {
        "colab": {
          "base_uri": "https://localhost:8080/"
        },
        "id": "4AE-unSRJJqs",
        "outputId": "d8815afd-e414-4b96-bf4f-5044cccfa9d6"
      },
      "execution_count": 7,
      "outputs": [
        {
          "output_type": "stream",
          "name": "stdout",
          "text": [
            "Solutions:\n",
            "x = 2, y = 3\n"
          ]
        }
      ]
    },
    {
      "cell_type": "markdown",
      "source": [
        "### Explanation of the Steps\n",
        "1. We define the variables `x` and `y` as symbols using SymPy.\n",
        "2. We define the equations `2x + 3y = 13` and `5x - 4y = -2` using `sp.Eq`.\n",
        "3. We use `sp.solve` to find the solution for `(x, y)`.\n",
        "\n",
        "The solution is printed as:\n",
        "- `x = value`\n",
        "- `y = value`\n"
      ],
      "metadata": {
        "id": "XegNfudiKkbe"
      }
    }
  ]
}