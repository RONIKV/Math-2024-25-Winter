{
  "nbformat": 4,
  "nbformat_minor": 0,
  "metadata": {
    "colab": {
      "provenance": []
    },
    "kernelspec": {
      "name": "python3",
      "display_name": "Python 3"
    },
    "language_info": {
      "name": "python"
    }
  },
  "cells": [
    {
      "cell_type": "markdown",
      "source": [
        "## Second Order Surfaces in Analytic Geometry\n",
        "This notebook explores second order surfaces in 3D space, including their standard equations and geometric properties.\n",
        "\n",
        "### Topics Covered:\n",
        "1. Ellipsoid\n",
        "2. Hyperboloid (one and two sheets)\n",
        "3. Paraboloid (elliptic and hyperbolic)\n"
      ],
      "metadata": {
        "id": "g7NDfxBGiEOr"
      }
    },
    {
      "cell_type": "code",
      "source": [
        "\n",
        "def is_point_on_ellipsoid(a, b, c, x, y, z):\n",
        "    value = (x**2 / a**2) + (y**2 / b**2) + (z**2 / c**2)\n",
        "    return value == 1\n",
        "\n",
        "\n",
        "a, b, c = 2, 3, 4\n",
        "x, y, z = 1, 2, 3\n",
        "is_on_surface = is_point_on_ellipsoid(a, b, c, x, y, z)\n",
        "print(f\"Ellipsoid equation: x^2/{a**2} + y^2/{b**2} + z^2/{c**2} = 1\")\n",
        "print(f\"Is point ({x}, {y}, {z}) on the surface? {'Yes' if is_on_surface else 'No'}\")\n"
      ],
      "metadata": {
        "colab": {
          "base_uri": "https://localhost:8080/"
        },
        "id": "ml3od4LqiHnh",
        "outputId": "e3adda4d-3992-4d67-95b4-6f5ad9117c35"
      },
      "execution_count": 28,
      "outputs": [
        {
          "output_type": "stream",
          "name": "stdout",
          "text": [
            "Ellipsoid equation: x^2/4 + y^2/9 + z^2/16 = 1\n",
            "Is point (1, 2, 3) on the surface? No\n"
          ]
        }
      ]
    },
    {
      "cell_type": "code",
      "source": [
        "\n",
        "def hyperboloid_type(a, b, c, x, y, z):\n",
        "    value = (x**2 / a**2) + (y**2 / b**2) - (z**2 / c**2)\n",
        "    if value == 1:\n",
        "        return \"One-Sheet Hyperboloid\"\n",
        "    elif value == -1:\n",
        "        return \"Two-Sheet Hyperboloid\"\n",
        "    else:\n",
        "        return \"Not on the Hyperboloid\"\n",
        "\n",
        "\n",
        "a, b, c = 2, 3, 4\n",
        "x, y, z = 1, 2, 1\n",
        "hyperboloid = hyperboloid_type(a, b, c, x, y, z)\n",
        "print(f\"Hyperboloid equation: x^2/{a**2} + y^2/{b**2} - z^2/{c**2} = 1\")\n",
        "print(f\"The point ({x}, {y}, {z}) is on a {hyperboloid}\")\n"
      ],
      "metadata": {
        "colab": {
          "base_uri": "https://localhost:8080/"
        },
        "id": "4dyAbIfSiKtq",
        "outputId": "27f2547e-488f-4c1b-ff5d-28e0c5acd825"
      },
      "execution_count": 29,
      "outputs": [
        {
          "output_type": "stream",
          "name": "stdout",
          "text": [
            "Hyperboloid equation: x^2/4 + y^2/9 - z^2/16 = 1\n",
            "The point (1, 2, 1) is on a Not on the Hyperboloid\n"
          ]
        }
      ]
    },
    {
      "cell_type": "code",
      "source": [
        "\n",
        "def paraboloid_type(a, b, x, y, z):\n",
        "    if z == (x**2 / a**2) + (y**2 / b**2):\n",
        "        return \"Elliptic Paraboloid\"\n",
        "    elif z == (x**2 / a**2) - (y**2 / b**2):\n",
        "        return \"Hyperbolic Paraboloid\"\n",
        "    else:\n",
        "        return \"Not on the Paraboloid\"\n",
        "\n",
        "\n",
        "a, b = 2, 3\n",
        "x, y, z = 1, 2, 2.25\n",
        "paraboloid = paraboloid_type(a, b, x, y, z)\n",
        "print(f\"The point ({x}, {y}, {z}) is on a {paraboloid}\")\n"
      ],
      "metadata": {
        "id": "WF0kb-boiP_R",
        "outputId": "a87f8c3a-0d51-4c36-c1ea-1473023e01d5",
        "colab": {
          "base_uri": "https://localhost:8080/"
        }
      },
      "execution_count": 30,
      "outputs": [
        {
          "output_type": "stream",
          "name": "stdout",
          "text": [
            "The point (1, 2, 2.25) is on a Not on the Paraboloid\n"
          ]
        }
      ]
    },
    {
      "cell_type": "markdown",
      "source": [
        "### Summary of Second Order Surfaces\n",
        "1. **Ellipsoid:** A closed surface, equation: x^2/a^2 + y^2/b^2 + z^2/c^2 = 1.\n",
        "2. **Hyperboloid:** Can be one-sheet or two-sheet depending on the equation.\n",
        "3. **Paraboloid:** Can be elliptic or hyperbolic depending on the sign in the equation.\n"
      ],
      "metadata": {
        "id": "gPnEWthZiS1Z"
      }
    }
  ]
}