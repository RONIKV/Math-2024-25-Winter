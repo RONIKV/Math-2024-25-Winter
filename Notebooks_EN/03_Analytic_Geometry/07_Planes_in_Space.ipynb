{
  "nbformat": 4,
  "nbformat_minor": 0,
  "metadata": {
    "colab": {
      "provenance": []
    },
    "kernelspec": {
      "name": "python3",
      "display_name": "Python 3"
    },
    "language_info": {
      "name": "python"
    }
  },
  "cells": [
    {
      "cell_type": "markdown",
      "source": [
        "## Planes in Space\n",
        "This notebook explores the equations of planes in 3D space and their geometric properties.\n",
        "\n",
        "### Topics Covered:\n",
        "1. Standard form of a plane equation: Ax + By + Cz + D = 0\n",
        "2. Normal vector of a plane\n",
        "3. Distance from a point to a plane\n"
      ],
      "metadata": {
        "id": "Lx_y99ZvhckD"
      }
    },
    {
      "cell_type": "code",
      "source": [
        "import numpy as np\n",
        "\n",
        "def normal_vector(A, B, C):\n",
        "    return np.array([A, B, C])\n",
        "\n",
        "\n",
        "A, B, C = 2, 3, -1\n",
        "normal = normal_vector(A, B, C)\n",
        "print(f\"Plane equation: {A}x + {B}y + {C}z + D = 0\")\n",
        "print(f\"Normal vector: {normal}\")\n"
      ],
      "metadata": {
        "colab": {
          "base_uri": "https://localhost:8080/"
        },
        "id": "3S1vyM8ahjl0",
        "outputId": "de7e4a34-8804-40ee-a99b-75ffb4113a2a"
      },
      "execution_count": 25,
      "outputs": [
        {
          "output_type": "stream",
          "name": "stdout",
          "text": [
            "Plane equation: 2x + 3y + -1z + D = 0\n",
            "Normal vector: [ 2  3 -1]\n"
          ]
        }
      ]
    },
    {
      "cell_type": "code",
      "source": [
        "\n",
        "def distance_point_to_plane(A, B, C, D, x0, y0, z0):\n",
        "    numerator = abs(A*x0 + B*y0 + C*z0 + D)\n",
        "    denominator = np.sqrt(A**2 + B**2 + C**2)\n",
        "    return numerator / denominator\n",
        "\n",
        "D = 4\n",
        "x0, y0, z0 = 1, -1, 2\n",
        "distance = distance_point_to_plane(A, B, C, D, x0, y0, z0)\n",
        "print(f\"Distance from point ({x0}, {y0}, {z0}) to plane {A}x + {B}y + {C}z + {D} = 0: {distance}\")\n"
      ],
      "metadata": {
        "colab": {
          "base_uri": "https://localhost:8080/"
        },
        "id": "j86qJT_chmp9",
        "outputId": "22906840-a7b1-41f9-bb4c-ea4f9a22855a"
      },
      "execution_count": 26,
      "outputs": [
        {
          "output_type": "stream",
          "name": "stdout",
          "text": [
            "Distance from point (1, -1, 2) to plane 2x + 3y + -1z + 4 = 0: 0.2672612419124244\n"
          ]
        }
      ]
    },
    {
      "cell_type": "code",
      "source": [
        "\n",
        "def are_planes_parallel(A1, B1, C1, A2, B2, C2):\n",
        "    normal1 = np.array([A1, B1, C1])\n",
        "    normal2 = np.array([A2, B2, C2])\n",
        "    cross_product = np.cross(normal1, normal2)\n",
        "    return np.all(cross_product == 0)\n",
        "\n",
        "A1, B1, C1 = 2, 3, -1\n",
        "A2, B2, C2 = 4, 6, -2\n",
        "is_parallel = are_planes_parallel(A1, B1, C1, A2, B2, C2)\n",
        "print(f\"Are the planes parallel? {'Yes' if is_parallel else 'No'}\")\n"
      ],
      "metadata": {
        "colab": {
          "base_uri": "https://localhost:8080/"
        },
        "id": "XMFlxXTphpe6",
        "outputId": "61c6e4a5-964b-4848-94e1-2f6706151ce1"
      },
      "execution_count": 27,
      "outputs": [
        {
          "output_type": "stream",
          "name": "stdout",
          "text": [
            "Are the planes parallel? Yes\n"
          ]
        }
      ]
    },
    {
      "cell_type": "markdown",
      "source": [
        "### Summary of Plane Properties\n",
        "1. **Normal Vector:** Perpendicular to the plane and determines its orientation.\n",
        "2. **Distance from a Point to a Plane:** Calculated using the plane equation and point coordinates.\n",
        "3. **Parallel Planes:** Two planes are parallel if their normal vectors are scalar multiples of each other.\n"
      ],
      "metadata": {
        "id": "nHeDvoMAhsP6"
      }
    }
  ]
}