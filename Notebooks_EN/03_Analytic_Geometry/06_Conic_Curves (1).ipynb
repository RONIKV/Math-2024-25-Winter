{
  "nbformat": 4,
  "nbformat_minor": 0,
  "metadata": {
    "colab": {
      "provenance": []
    },
    "kernelspec": {
      "name": "python3",
      "display_name": "Python 3"
    },
    "language_info": {
      "name": "python"
    }
  },
  "cells": [
    {
      "cell_type": "markdown",
      "source": [
        "## Conic Curves in Analytic Geometry\n",
        "This notebook explores different types of conic sections, including their standard equations and geometric properties.\n",
        "\n",
        "### Topics Covered:\n",
        "1. Parabola: Focus and directrix\n",
        "2. Ellipse: Major and minor axes\n",
        "3. Hyperbola: Asymptotes\n",
        "\n",
        "\n"
      ],
      "metadata": {
        "id": "ElM0qNWKg-RG"
      }
    },
    {
      "cell_type": "code",
      "source": [
        "\n",
        "def parabola_focus_directrix(a):\n",
        "    focus = (0, 1 / (4 * a))\n",
        "    directrix = -1 / (4 * a)\n",
        "    return focus, directrix\n",
        "\n",
        "a = 2\n",
        "focus, directrix = parabola_focus_directrix(a)\n",
        "print(f\"Parabola y = {a}x^2\")\n",
        "print(f\"Focus: {focus}, Directrix: y = {directrix}\")\n"
      ],
      "metadata": {
        "colab": {
          "base_uri": "https://localhost:8080/"
        },
        "id": "5xHSwMcohBch",
        "outputId": "ad0bca9b-2bc0-4754-f1db-9a589c4ce9ca"
      },
      "execution_count": 23,
      "outputs": [
        {
          "output_type": "stream",
          "name": "stdout",
          "text": [
            "Parabola y = 2x^2\n",
            "Focus: (0, 0.125), Directrix: y = -0.125\n"
          ]
        }
      ]
    },
    {
      "cell_type": "code",
      "source": [
        "def ellipse_axes(a, b):\n",
        "    major_axis = 2 * max(a, b)\n",
        "    minor_axis = 2 * min(a, b)\n",
        "    return major_axis, minor_axis\n",
        "\n",
        "a = 5\n",
        "b = 3\n",
        "major_axis, minor_axis = ellipse_axes(a, b)\n",
        "print(f\"Ellipse: x^2/{a}^2 + y^2/{b}^2 = 1\")\n",
        "print(f\"Major Axis: {major_axis}, Minor Axis: {minor_axis}\")\n"
      ],
      "metadata": {
        "colab": {
          "base_uri": "https://localhost:8080/"
        },
        "id": "ixyR6QLShFA_",
        "outputId": "531b2e92-f56e-4edb-c1b6-5b02327b1e01"
      },
      "execution_count": 22,
      "outputs": [
        {
          "output_type": "stream",
          "name": "stdout",
          "text": [
            "Ellipse: x^2/5^2 + y^2/3^2 = 1\n",
            "Major Axis: 10, Minor Axis: 6\n"
          ]
        }
      ]
    },
    {
      "cell_type": "code",
      "source": [
        "def hyperbola_asymptotes(a, b):\n",
        "    slope1 = b / a\n",
        "    slope2 = -b / a\n",
        "    return slope1, slope2\n",
        "a = 4\n",
        "b = 2\n",
        "slope1, slope2 = hyperbola_asymptotes(a, b)\n",
        "print(f\"Hyperbola: x^2/{a}^2 - y^2/{b}^2 = 1\")\n",
        "print(f\"Asymptotes: y = {slope1}x, y = {slope2}x\")\n"
      ],
      "metadata": {
        "colab": {
          "base_uri": "https://localhost:8080/"
        },
        "id": "8Y5e4km5hIx_",
        "outputId": "6b49865d-0a23-4fc1-b20a-cddd1e46904d"
      },
      "execution_count": 24,
      "outputs": [
        {
          "output_type": "stream",
          "name": "stdout",
          "text": [
            "Hyperbola: x^2/4^2 - y^2/2^2 = 1\n",
            "Asymptotes: y = 0.5x, y = -0.5x\n"
          ]
        }
      ]
    },
    {
      "cell_type": "markdown",
      "source": [
        "### Summary of Conic Curves\n",
        "1. **Parabola**: Defined by its focus and directrix. Example equation: y = ax^2.\n",
        "2. **Ellipse**: Defined by its major and minor axes. Example equation: x^2/a^2 + y^2/b^2 = 1.\n",
        "3. **Hyperbola**: Defined by its asymptotes. Example equation: x^2/a^2 - y^2/b^2 = 1.\n"
      ],
      "metadata": {
        "id": "m-IpXetghNe9"
      }
    }
  ]
}