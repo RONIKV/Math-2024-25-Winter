{
  "nbformat": 4,
  "nbformat_minor": 0,
  "metadata": {
    "colab": {
      "provenance": []
    },
    "kernelspec": {
      "name": "python3",
      "display_name": "Python 3"
    },
    "language_info": {
      "name": "python"
    }
  },
  "cells": [
    {
      "cell_type": "markdown",
      "source": [
        "## Conic Curves in Analytic Geometry\n",
        "This notebook explores parabolas, ellipses, and hyperbolas with their standard equations.\n",
        "\n",
        "### Topics Covered:\n",
        "1. Parabol: Focus and directrix\n",
        "2. Elips: Major and minor axes\n",
        "3. Hiperbol: Asymptotes\n"
      ],
      "metadata": {
        "id": "7ww_oOG2gI3G"
      }
    },
    {
      "cell_type": "code",
      "source": [
        "\n",
        "def parabola_focus_directrix(a):\n",
        "    focus = (0, 1 / (4 * a))\n",
        "    directrix = -1 / (4 * a)\n",
        "    return focus, directrix\n",
        "\n",
        "\n",
        "a = 2\n",
        "focus, directrix = parabola_focus_directrix(a)\n",
        "print(f\"Focus: {focus}, Directrix: y = {directrix}\")\n"
      ],
      "metadata": {
        "colab": {
          "base_uri": "https://localhost:8080/"
        },
        "id": "AGo1NmfHgKIh",
        "outputId": "6590393a-d791-431a-a237-7b437c9afbdd"
      },
      "execution_count": 21,
      "outputs": [
        {
          "output_type": "stream",
          "name": "stdout",
          "text": [
            "Focus: (0, 0.125), Directrix: y = -0.125\n"
          ]
        }
      ]
    }
  ]
}