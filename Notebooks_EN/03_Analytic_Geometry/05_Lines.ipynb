{
  "nbformat": 4,
  "nbformat_minor": 0,
  "metadata": {
    "colab": {
      "provenance": []
    },
    "kernelspec": {
      "name": "python3",
      "display_name": "Python 3"
    },
    "language_info": {
      "name": "python"
    }
  },
  "cells": [
    {
      "cell_type": "markdown",
      "source": [
        "## Lines in Analytic Geometry\n",
        "This notebook explores the equations of lines in 2D and 3D space, and their geometric properties.\n",
        "\n",
        "### Topics Covered:\n",
        "1. Slope-intercept form: y = mx + b\n",
        "2. General form: Ax + By + C = 0\n",
        "3. Parametric equations of a line\n",
        "4. Distance from a point to a line\n"
      ],
      "metadata": {
        "id": "lOcTdL4-f3vw"
      }
    },
    {
      "cell_type": "code",
      "source": [
        "import numpy as np\n",
        "\n",
        "\n",
        "def slope_intercept_form(x1, y1, x2, y2):\n",
        "    slope = (y2 - y1) / (x2 - x1)\n",
        "    intercept = y1 - slope * x1\n",
        "    return slope, intercept\n",
        "\n",
        "x1, y1 = 1, 2\n",
        "x2, y2 = 4, 6\n",
        "slope, intercept = slope_intercept_form(x1, y1, x2, y2)\n",
        "print(f\"Line equation: y = {slope}x + {intercept}\")\n",
        "\n",
        "\n",
        "def distance_point_to_line(A, B, C, x0, y0):\n",
        "    distance = abs(A*x0 + B*y0 + C) / np.sqrt(A**2 + B**2)\n",
        "    return distance\n",
        "\n",
        "\n",
        "A, B, C = 1, -1, -2\n",
        "x0, y0 = 3, 4\n",
        "distance = distance_point_to_line(A, B, C, x0, y0)\n",
        "print(f\"Distance from point ({x0}, {y0}) to line {A}x + {B}y + {C} = 0: {distance}\")\n"
      ],
      "metadata": {
        "colab": {
          "base_uri": "https://localhost:8080/"
        },
        "id": "Dy2m5qCwf6ns",
        "outputId": "9f45a38f-6e26-4101-bc7d-4bd59cfafb5a"
      },
      "execution_count": 20,
      "outputs": [
        {
          "output_type": "stream",
          "name": "stdout",
          "text": [
            "Line equation: y = 1.3333333333333333x + 0.6666666666666667\n",
            "Distance from point (3, 4) to line 1x + -1y + -2 = 0: 2.1213203435596424\n"
          ]
        }
      ]
    }
  ]
}